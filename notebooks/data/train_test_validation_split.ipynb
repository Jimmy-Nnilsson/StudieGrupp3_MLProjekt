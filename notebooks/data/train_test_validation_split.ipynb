{
 "cells": [
  {
   "cell_type": "code",
   "execution_count": 21,
   "metadata": {},
   "outputs": [],
   "source": [
    "import os\n",
    "import shutil\n",
    "import numpy as np\n",
    "from sklearn.model_selection import train_test_split\n",
    "from pathlib import Path"
   ]
  },
  {
   "cell_type": "code",
   "execution_count": 22,
   "metadata": {},
   "outputs": [],
   "source": [
    "# Make data paths\n",
    "project_path = Path(os.getcwd()).parent.parent\n",
    "datapath = (project_path /'data/processed/')\n",
    "\n",
    "class_0_path = list((datapath / \"1_cropped_yes\").rglob(\"*\"))\n",
    "class_1_path = list((datapath / \"1_cropped_no\").rglob(\"*\"))\n",
    "\n",
    "y0 = [0 for i in range(len(class_0_path))]\n",
    "y1 = [1 for i in range(len(class_1_path))]\n",
    "\n",
    "CLASSES = {0 : 'yes', 1 : 'no'}"
   ]
  },
  {
   "cell_type": "code",
   "execution_count": 23,
   "metadata": {},
   "outputs": [],
   "source": [
    "# Combine classes\n",
    "class_paths = class_0_path + class_1_path\n",
    "y = y0 + y1"
   ]
  },
  {
   "cell_type": "code",
   "execution_count": 24,
   "metadata": {},
   "outputs": [],
   "source": [
    "# Split datasets\n",
    "X_train_paths, X_test_val, y_train, y_test_val = train_test_split(class_paths, y, train_size=0.6, random_state=42)\n",
    "X_test, X_val, y_test, y_val = train_test_split(X_test_val, y_test_val, test_size = 0.5, random_state=42)"
   ]
  },
  {
   "cell_type": "code",
   "execution_count": 25,
   "metadata": {},
   "outputs": [
    {
     "name": "stdout",
     "output_type": "stream",
     "text": [
      "(84,)\n",
      "(84,) None (array([0, 1]), array([79, 46], dtype=int64))\n"
     ]
    }
   ],
   "source": [
    "# Print array shapes\n",
    "print(np.asarray(X_test_val).shape, print(np.asarray(y_test_val).shape), np.unique(y_train, return_counts=True))"
   ]
  },
  {
   "cell_type": "code",
   "execution_count": 26,
   "metadata": {},
   "outputs": [
    {
     "name": "stdout",
     "output_type": "stream",
     "text": [
      "Train (array([0, 1]), array([79, 46], dtype=int64)) \n",
      "Val (array([0, 1]), array([24, 18], dtype=int64)) \n",
      "Test (array([0, 1]), array([30, 12], dtype=int64))\n"
     ]
    }
   ],
   "source": [
    "# Print label counts\n",
    "print(\"Train\",np.unique(y_train, return_counts=True),\n",
    "  \"\\n\"\"Val\",np.unique(y_val, return_counts=True), \n",
    "  \"\\n\"\"Test\",np.unique(y_test, return_counts=True))"
   ]
  },
  {
   "cell_type": "code",
   "execution_count": 29,
   "metadata": {},
   "outputs": [
    {
     "name": "stdout",
     "output_type": "stream",
     "text": [
      "Numer of files copied: 125\n",
      "Numer of files copied: 42\n",
      "Numer of files copied: 42\n"
     ]
    }
   ],
   "source": [
    "# Move files according to split\n",
    "def filecopy(fileLoc : Path, type : str, c0, c1):\n",
    "    files_copied = 0\n",
    "    for i in range(len(fileLoc)):\n",
    "        iclass = fileLoc[i].parts[-2].split(\"_\")[-1]\n",
    "        if iclass == 'yes':\n",
    "            ci = c0\n",
    "        elif iclass == 'no':\n",
    "            ci = c1\n",
    "        subdest = str(f'data/processed/2_split_{iclass}/{type}/{str(ci)}_{iclass}{fileLoc[i].suffixes[0]}')\n",
    "        dest = project_path / subdest\n",
    "        if not os.path.isdir(dest.parent):\n",
    "            os.makedirs(dest.parent)\n",
    "        # # Uncomment to stop overwriting\n",
    "        # if not os.path.isfile(dest):\n",
    "        files_copied += 1\n",
    "        if iclass == 'yes':\n",
    "            c0 += 1\n",
    "        elif iclass == 'no':\n",
    "            c1 += 1\n",
    "        # print(subdest)\n",
    "        shutil.copy(fileLoc[i], dest)\n",
    "    print(f\"Numer of files copied: {files_copied}\")\n",
    "    return c0, c1\n",
    "c0 = 0\n",
    "c1 = 0\n",
    "c0, c1 = filecopy(X_train_paths, 'train', c0, c1)\n",
    "c0, c1 = filecopy(X_test, 'test', c0, c1)\n",
    "c0, c1 = filecopy(X_val, 'val', c0, c1)"
   ]
  }
 ],
 "metadata": {
  "interpreter": {
   "hash": "34d3ccf461250b4bace870432d261068974bab6bb945123048ff42a3b1a5dec5"
  },
  "kernelspec": {
   "display_name": "Python 3.9.0 ('g3')",
   "language": "python",
   "name": "python3"
  },
  "language_info": {
   "codemirror_mode": {
    "name": "ipython",
    "version": 3
   },
   "file_extension": ".py",
   "mimetype": "text/x-python",
   "name": "python",
   "nbconvert_exporter": "python",
   "pygments_lexer": "ipython3",
   "version": "3.9.0"
  },
  "orig_nbformat": 4
 },
 "nbformat": 4,
 "nbformat_minor": 2
}
