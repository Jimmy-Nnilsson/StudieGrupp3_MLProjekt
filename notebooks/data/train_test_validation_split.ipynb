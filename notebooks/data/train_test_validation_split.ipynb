{
 "cells": [
  {
   "cell_type": "code",
   "execution_count": 1,
   "metadata": {},
   "outputs": [],
   "source": [
    "import os\n",
    "import shutil\n",
    "import numpy as np\n",
    "from sklearn.model_selection import train_test_split\n",
    "from pathlib import Path"
   ]
  },
  {
   "cell_type": "code",
   "execution_count": 2,
   "metadata": {},
   "outputs": [],
   "source": [
    "project_path = Path(os.getcwd()).parent.parent\n",
    "datapath = (project_path /'data/raw/dataset_1/')\n",
    "\n",
    "class_0_path = list((datapath / \"yes\").rglob(\"*\"))\n",
    "class_1_path = list((datapath / \"no\").rglob(\"*\"))\n",
    "\n",
    "y0 = [0 for i in range(len(class_0_path))]\n",
    "y1 = [1 for i in range(len(class_1_path))]\n",
    "\n",
    "CLASSES = {0 : 'yes', 1 : 'no'}"
   ]
  },
  {
   "cell_type": "code",
   "execution_count": 3,
   "metadata": {},
   "outputs": [],
   "source": [
    "class_paths = class_0_path + class_1_path\n",
    "y = y0 + y1"
   ]
  },
  {
   "cell_type": "code",
   "execution_count": 13,
   "metadata": {},
   "outputs": [],
   "source": [
    "X_train_paths, X_test_val, y_train, y_test_val = train_test_split(class_paths, y, train_size=0.8, random_state=42)\n",
    "X_test, X_val, y_test, y_val = train_test_split(X_test_val, y_test_val, test_size = 0.5, random_state=42)"
   ]
  },
  {
   "cell_type": "code",
   "execution_count": 14,
   "metadata": {},
   "outputs": [
    {
     "name": "stdout",
     "output_type": "stream",
     "text": [
      "(41,)\n",
      "(41,) None (array([0, 1]), array([101,  60], dtype=int64))\n"
     ]
    }
   ],
   "source": [
    "print(np.asarray(X_test_val).shape, print(np.asarray(y_test_val).shape), np.unique(y_train, return_counts=True))"
   ]
  },
  {
   "cell_type": "code",
   "execution_count": 15,
   "metadata": {},
   "outputs": [
    {
     "data": {
      "text/plain": [
       "(array([0, 1]), array([12,  8], dtype=int64))"
      ]
     },
     "execution_count": 15,
     "metadata": {},
     "output_type": "execute_result"
    }
   ],
   "source": [
    "np.unique(y_test, return_counts=True)"
   ]
  },
  {
   "cell_type": "code",
   "execution_count": 7,
   "metadata": {},
   "outputs": [
    {
     "data": {
      "text/plain": [
       "'yes'"
      ]
     },
     "execution_count": 7,
     "metadata": {},
     "output_type": "execute_result"
    }
   ],
   "source": [
    "X_train_paths[0].parts[-2]"
   ]
  },
  {
   "cell_type": "code",
   "execution_count": 8,
   "metadata": {},
   "outputs": [
    {
     "data": {
      "text/plain": [
       "['.jpg']"
      ]
     },
     "execution_count": 8,
     "metadata": {},
     "output_type": "execute_result"
    }
   ],
   "source": [
    "X_train_paths[0].suffixes"
   ]
  },
  {
   "cell_type": "code",
   "execution_count": 12,
   "metadata": {},
   "outputs": [
    {
     "name": "stdout",
     "output_type": "stream",
     "text": [
      "Numer of files copied: 0\n",
      "Numer of files copied: 0\n",
      "Numer of files copied: 0\n"
     ]
    }
   ],
   "source": [
    "\n",
    "def filecopy(fileLoc : Path, type : str):\n",
    "    files_copied = 0\n",
    "    for i in range(len(fileLoc)):\n",
    "        subdest = str(f'data/processed/dataset_1/{type}/{fileLoc[i].parts[-2]}/{fileLoc[i].parts[-1]}')\n",
    "        dest = project_path / subdest\n",
    "        if not os.path.isdir(dest.parent):\n",
    "            os.makedirs(dest.parent)\n",
    "        if not os.path.isfile(dest):\n",
    "            files_copied += 1\n",
    "            shutil.copy(fileLoc[i], dest)\n",
    "    print(f\"Numer of files copied: {files_copied}\")\n",
    "\n",
    "filecopy(X_train_paths, 'train')\n",
    "filecopy(X_test, 'test')\n",
    "filecopy(X_val, 'val')"
   ]
  },
  {
   "cell_type": "code",
   "execution_count": null,
   "metadata": {},
   "outputs": [],
   "source": []
  }
 ],
 "metadata": {
  "interpreter": {
   "hash": "34d3ccf461250b4bace870432d261068974bab6bb945123048ff42a3b1a5dec5"
  },
  "kernelspec": {
   "display_name": "Python 3.9.0 ('g3')",
   "language": "python",
   "name": "python3"
  },
  "language_info": {
   "codemirror_mode": {
    "name": "ipython",
    "version": 3
   },
   "file_extension": ".py",
   "mimetype": "text/x-python",
   "name": "python",
   "nbconvert_exporter": "python",
   "pygments_lexer": "ipython3",
   "version": "3.9.0"
  },
  "orig_nbformat": 4
 },
 "nbformat": 4,
 "nbformat_minor": 2
}
