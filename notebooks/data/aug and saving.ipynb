{
 "cells": [
  {
   "cell_type": "code",
   "execution_count": 42,
   "metadata": {},
   "outputs": [],
   "source": [
    "import albumentations as A\n",
    "from pathlib import Path\n",
    "import matplotlib.pyplot as plt\n",
    "from matplotlib.pyplot import show\n",
    "from PIL import Image\n",
    "import string\n",
    "import cv2\n",
    "import numpy as np\n",
    "import glob\n",
    "import os"
   ]
  },
  {
   "cell_type": "code",
   "execution_count": 43,
   "metadata": {},
   "outputs": [],
   "source": [
    "\"\"\"Välj Parent folder = mappen innan yes och no\n",
    "ex D:\\Projektarbete\\blandat\\aug\\2_split_yes\\train\\ == D:\\Projektarbete\\blandat\\aug\\ \"\"\"\n",
    "\n",
    "data_path = Path(\"D:\\\\Projektarbete\\\\blandat\\\\aug\\\\\")"
   ]
  },
  {
   "cell_type": "code",
   "execution_count": 44,
   "metadata": {},
   "outputs": [
    {
     "name": "stdout",
     "output_type": "stream",
     "text": [
      "D:\\Projektarbete\\blandat\\aug\\2_split_no\\\n",
      "D:\\Projektarbete\\blandat\\aug\\2_split_no\\test\\\n",
      "D:\\Projektarbete\\blandat\\aug\\2_split_no\\train\\\n",
      "D:\\Projektarbete\\blandat\\aug\\2_split_no\\train_aug\\\n",
      "D:\\Projektarbete\\blandat\\aug\\2_split_no\\val\\\n",
      "D:\\Projektarbete\\blandat\\aug\\2_split_yes\\\n",
      "D:\\Projektarbete\\blandat\\aug\\2_split_yes\\test\\\n",
      "D:\\Projektarbete\\blandat\\aug\\2_split_yes\\train\\\n",
      "D:\\Projektarbete\\blandat\\aug\\2_split_yes\\train_aug\\\n",
      "D:\\Projektarbete\\blandat\\aug\\2_split_yes\\val\\\n",
      "D:\\Projektarbete\\blandat\\aug\\3_aug_no\\\n",
      "D:\\Projektarbete\\blandat\\aug\\3_aug_yes\\\n"
     ]
    }
   ],
   "source": [
    "#skapar en lista av alla mappar i data_path\n",
    "list_of_folders = []\n",
    " \n",
    "rootdir = data_path\n",
    "for path in glob.glob(f'{rootdir}/*/**/', recursive=True):\n",
    "    print(path)\n",
    "    list_of_folders.append(path)"
   ]
  },
  {
   "cell_type": "code",
   "execution_count": 45,
   "metadata": {},
   "outputs": [],
   "source": [
    "def checker(list, word):\n",
    "    \"\"\"funktion som söker efter ett visst ord i en lista, returnerar sedan svaret\"\"\"\n",
    "    train_paths = []\n",
    "    folderpath = [n for n, x in enumerate(list) if word in x]\n",
    "    \n",
    "    for i in range(len(folderpath)):\n",
    "        train_paths.append(list[folderpath[i]])\n",
    "    return train_paths"
   ]
  },
  {
   "cell_type": "code",
   "execution_count": 46,
   "metadata": {},
   "outputs": [],
   "source": [
    "#letar upp alla mappar som heter \"train\" och sparar dessa sökvägar i en lista\n",
    "training_folder_paths = checker(list_of_folders, 'train')\n",
    "\n",
    "#letar upp vart ordet \"no\" finns i listan och returnerar sökvägen dit\n",
    "no_training_path = checker(training_folder_paths,\"no\")\n",
    "no_training_path = Path(no_training_path[0])\n",
    "\n",
    "#letar upp vart ordet \"yes\" finns i listan och returnerar sökvägen dit\n",
    "yes_training_path = checker(training_folder_paths,\"yes\")\n",
    "yes_training_path = Path(yes_training_path[0])\n"
   ]
  },
  {
   "cell_type": "code",
   "execution_count": 47,
   "metadata": {},
   "outputs": [],
   "source": [
    "#sparar ner alla filnamn som finns på destinationen\n",
    "path_no = list(no_training_path.rglob('*'))\n",
    "path_yes = list(yes_training_path.rglob('*'))\n",
    "\n",
    "y0 = [0 for i in range(len(path_no))]\n",
    "y1 = [1 for i in range(len(path_yes))]\n",
    "\n",
    "CLASSES = {0:\"no\",1:\"yes\"}\n",
    "\n",
    "CLASSES_list = []\n",
    "\n",
    "for key in CLASSES:\n",
    "    CLASSES_list.append(CLASSES[key])"
   ]
  },
  {
   "cell_type": "code",
   "execution_count": 48,
   "metadata": {},
   "outputs": [],
   "source": [
    "def get_names(paths):\n",
    "    \"\"\"funktion som sparar ner filnamnet per bild\"\"\"\n",
    "    return_list = []\n",
    "    for i in range(len(paths)):\n",
    "        return_list.append(Path(paths[i]).stem)\n",
    "    return return_list   "
   ]
  },
  {
   "cell_type": "code",
   "execution_count": 49,
   "metadata": {},
   "outputs": [],
   "source": [
    "#använder funktionen get_names för att få filnamnen på alla filer\n",
    "list_of_names_no = get_names(path_no)\n",
    "list_of_names_yes = get_names(path_yes)"
   ]
  },
  {
   "cell_type": "code",
   "execution_count": 50,
   "metadata": {},
   "outputs": [
    {
     "name": "stdout",
     "output_type": "stream",
     "text": [
      "10_no\n",
      "D:\\Projektarbete\\blandat\\aug\\2_split_no\\train\\10_no.jpeg\n"
     ]
    }
   ],
   "source": [
    "print(list_of_names_no[1])\n",
    "print(path_no[1])"
   ]
  },
  {
   "cell_type": "code",
   "execution_count": 51,
   "metadata": {},
   "outputs": [
    {
     "name": "stdout",
     "output_type": "stream",
     "text": [
      "Counter({1: 79, 0: 46})\n"
     ]
    }
   ],
   "source": [
    "from collections import Counter\n",
    "class_paths = path_no + path_yes\n",
    "y = y0 + y1\n",
    "print(Counter(y))"
   ]
  },
  {
   "cell_type": "code",
   "execution_count": 52,
   "metadata": {},
   "outputs": [],
   "source": [
    "def from_path_to_imglist(paths):\n",
    "    \"\"\"sparar ner alla sökvägar till bilder som sparas i en numpy array\"\"\"\n",
    "    IMG_SIZE = (224,224)\n",
    "    list_of_images = []\n",
    "    for path in paths:\n",
    "        img = cv2.imread(str(path))\n",
    "        img = cv2.resize(img, IMG_SIZE)\n",
    "        list_of_images.append(img)\n",
    "    list_of_images = np.asarray(list_of_images)\n",
    "    return list_of_images"
   ]
  },
  {
   "cell_type": "code",
   "execution_count": 53,
   "metadata": {},
   "outputs": [],
   "source": [
    "#sökväg till bilder i numpy array\n",
    "no_images = from_path_to_imglist(path_no)\n",
    "yes_images = from_path_to_imglist(path_yes)"
   ]
  },
  {
   "cell_type": "code",
   "execution_count": 54,
   "metadata": {},
   "outputs": [],
   "source": [
    "def aug_image_and_save_to_dict(images, list_of_names):\n",
    "    \"\"\"funktion som tar in alla bilderna i numpy samt alla filnamn.\n",
    "    alla bilder augumenteras och dessa sparas i en lista inuti en dict per filnamn(key)\"\"\"\n",
    "    dictionary = {}\n",
    "    \n",
    "    for k in range(len(list_of_names)):\n",
    "        #roterar bilden 4 gånger \n",
    "        for i in range(4):\n",
    "            augmented_image = Image.fromarray(images[k])                #skapar en bild från array\n",
    "            augmented_image = augmented_image.rotate(90*(i))            #roterar bilden 90 grader\n",
    "            \n",
    "            try:                                                        #skapar en key utifrån filnamn och \n",
    "                dictionary[list_of_names[k]] += [augmented_image]       #sparar sedan filerna i en lista\n",
    "            except:\n",
    "                dictionary[list_of_names[k]] = [augmented_image]\n",
    "        \n",
    "        #tar de fyra roterade bilderna och flippar dem\n",
    "        for i in range(len(dictionary[list_of_names[k]])):\n",
    "            transform = A.Compose([A.VerticalFlip(p=1.0)])              #väljer funktionen verticalFlip\n",
    "            flip = np.asarray(dictionary[list_of_names[k]][i])          #gör bilden till en np array (vi gjorde dem till image innan)\n",
    "            augmented_image = transform(image=flip)['image']            #exekverar funktionen verticalFlip\n",
    "            augmented_image = Image.fromarray(augmented_image)          #konverterar bild till array\n",
    "            dictionary[list_of_names[k]] += [augmented_image]           #sparar i dict\n",
    "        \n",
    "        #tar de roterade och flippade bilderna och lägger på Clahe\n",
    "        for i in range(len(dictionary[list_of_names[k]])):              \n",
    "            transform = A.Compose([A.CLAHE(p=1)])                       #väljer funktionen CLAHE\n",
    "            clahe = np.asarray(dictionary[list_of_names[k]][i])         #gör bilden till en np array (vi gjorde dem till image innan)\n",
    "            augmented_image = transform(image=clahe)['image']           #exekverar funktionen CLAHE\n",
    "            augmented_image = Image.fromarray(augmented_image)          #konverterar bild till array\n",
    "            dictionary[list_of_names[k]] += [augmented_image]           #sparar i dict\n",
    "    return dictionary"
   ]
  },
  {
   "cell_type": "code",
   "execution_count": 55,
   "metadata": {},
   "outputs": [],
   "source": [
    "#augumenterar alla bilder och får ut dem som dict\n",
    "dict_no_aug_files = aug_image_and_save_to_dict(no_images, list_of_names_no)\n",
    "dict_yes_aug_files = aug_image_and_save_to_dict(yes_images, list_of_names_yes)"
   ]
  },
  {
   "cell_type": "code",
   "execution_count": 56,
   "metadata": {},
   "outputs": [],
   "source": [
    "#skapar sökväg där de aug. bilderna skall sparas\n",
    "no_aug_path = Path(str(path_no[0].parent.parent.parent)+\"\\\\3_aug_no_train\\\\\")\n",
    "yes_aug_path = Path(str(path_yes[0].parent.parent.parent)+\"\\\\3_aug_yes_train\\\\\")\n",
    "\n",
    "listan = [no_aug_path, yes_aug_path]"
   ]
  },
  {
   "cell_type": "code",
   "execution_count": 57,
   "metadata": {},
   "outputs": [],
   "source": [
    "#kollar om mapparna finns annars så skapas de nya mapparna\n",
    "for i in listan:\n",
    "    if not os.path.exists(i):\n",
    "        os.makedirs(i)\n",
    "    else:\n",
    "        print(f\"{i} fungerade inte\")"
   ]
  },
  {
   "cell_type": "code",
   "execution_count": 58,
   "metadata": {},
   "outputs": [],
   "source": [
    "def saving_images(dictionary, paths):\n",
    "    \"\"\"funktion som sparar de augumenterade bilderna i rätt mappar\"\"\"\n",
    "    \"\"\"varje nyckel i dict är namnet på orginalfilen och sedan är value en lista på alla de augumenterade bilderna\"\"\"\n",
    "    version = string.ascii_lowercase\n",
    "\n",
    "    for key in dictionary:                                          #key = varje nyckel i dict (filnamn)\n",
    "        for j in range(len(dictionary[key])):                       #j = varje bild\n",
    "            filename = f\"{paths}\\\\{key}_{str(version[j])}.jpg\"\n",
    "            dictionary[key][j].save(filename)"
   ]
  },
  {
   "cell_type": "code",
   "execution_count": 59,
   "metadata": {},
   "outputs": [],
   "source": [
    "#spara de augumenterade bilderna\n",
    "saving_yes = saving_images(dict_yes_aug_files, yes_aug_path)\n",
    "saving_no = saving_images(dict_no_aug_files, no_aug_path)"
   ]
  }
 ],
 "metadata": {
  "interpreter": {
   "hash": "f590cf11f8f687e4f1329afef9a1319628c7c1f7c0266575b6eaf479ef6affc7"
  },
  "kernelspec": {
   "display_name": "Python 3.8.12 64-bit ('new': conda)",
   "language": "python",
   "name": "python3"
  },
  "language_info": {
   "codemirror_mode": {
    "name": "ipython",
    "version": 3
   },
   "file_extension": ".py",
   "mimetype": "text/x-python",
   "name": "python",
   "nbconvert_exporter": "python",
   "pygments_lexer": "ipython3",
   "version": "3.8.12"
  },
  "orig_nbformat": 4
 },
 "nbformat": 4,
 "nbformat_minor": 2
}
