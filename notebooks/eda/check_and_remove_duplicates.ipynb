{
 "cells": [
  {
   "cell_type": "code",
   "execution_count": 261,
   "metadata": {},
   "outputs": [],
   "source": [
    "import numpy as np\n",
    "import os\n",
    "import cv2\n",
    "from pathlib import Path\n",
    "from os.path import exists\n",
    "from os import remove"
   ]
  },
  {
   "cell_type": "code",
   "execution_count": 262,
   "metadata": {},
   "outputs": [],
   "source": [
    "#folder where the image is located\n",
    "folder_name = \"no\"\n",
    "\n",
    "#parent folder\n",
    "data_path = Path(\"D:\\\\Projektarbete\\\\blandat\\\\brain_tumor_dataset\")\n",
    "\n",
    "#filname including path\n",
    "path_no = list((data_path / folder_name).rglob('*'))"
   ]
  },
  {
   "cell_type": "code",
   "execution_count": 263,
   "metadata": {},
   "outputs": [
    {
     "data": {
      "text/plain": [
       "list"
      ]
     },
     "execution_count": 263,
     "metadata": {},
     "output_type": "execute_result"
    }
   ],
   "source": [
    "type(path_no)"
   ]
  },
  {
   "cell_type": "code",
   "execution_count": 264,
   "metadata": {},
   "outputs": [],
   "source": [
    "def check_duplicates(image_list):\n",
    "    \"\"\"In lista med bilder och ut en dict med duplicerade bilder\"\"\"\n",
    "    \n",
    "    list_of_pixel = []          #lista totalt antal pixlar per bild\n",
    "    unique_pixel = set()        #lista unika pixel värden\n",
    "    list_of_duplicate_pixel = []        #lista duplicerade pixel värden\n",
    "    dict_duplicates = {}                #dictionary av de duplicerade värdena(value) och path (key)\n",
    "\n",
    "    #för varje bild i image_list lägg till summerade pixelvärdet i list_of_pixel    \n",
    "    for i in range(len(image_list)):\n",
    "        list_of_pixel.append(np.sum(image_list[i]))\n",
    "    \n",
    "    #för varje pixelvärde i list_of_pixel lägg unika värden i unique_pixel och duplicerade i duplicate_pixel_pos\n",
    "    for num in list_of_pixel:\n",
    "        if num not in unique_pixel:\n",
    "            unique_pixel.add(num)\n",
    "        else:\n",
    "            unique_pixel = unique_pixel - set([num])\n",
    "            list_of_duplicate_pixel.append(num)\n",
    "    \n",
    "    #för varje pixelvärde i image_list som finns i duplicated_pixel_pos spara path (key) och pixelvärde (value) i en dict\n",
    "    for i in range(len(image_list)):\n",
    "        if np.sum(image_list[i]) in list_of_duplicate_pixel:\n",
    "            dict_duplicates[path_no[i]] = os.stat(path_no[i]).st_size\n",
    "    \n",
    "    return dict_duplicates"
   ]
  },
  {
   "cell_type": "code",
   "execution_count": 265,
   "metadata": {},
   "outputs": [],
   "source": [
    "image_list = []\n",
    "IMG_SIZE = (224,224)\n",
    "\n",
    "#spara varje bild som en numpy array i en lista\n",
    "for path in path_no:\n",
    "    img = cv2.imread(str(path))\n",
    "    img = cv2.resize(img, IMG_SIZE)\n",
    "    image_list.append(img)"
   ]
  },
  {
   "cell_type": "code",
   "execution_count": 266,
   "metadata": {},
   "outputs": [],
   "source": [
    "#funktionen för att få ut duplicerade bilder\n",
    "duplicates = check_duplicates(image_list)"
   ]
  },
  {
   "cell_type": "code",
   "execution_count": 267,
   "metadata": {},
   "outputs": [],
   "source": [
    "def sortera_dict(sorted_dict):\n",
    "    \"\"\"Får in ett dict och skickar ut ett sorterat dict\"\"\"\n",
    "    sorted_dict = {}\n",
    "    sorted_keys = sorted(duplicates, key=duplicates.get)  \n",
    "\n",
    "    for w in sorted_keys:\n",
    "        sorted_dict[w] = duplicates[w]\n",
    "    \n",
    "    return sorted_dict"
   ]
  },
  {
   "cell_type": "code",
   "execution_count": 268,
   "metadata": {},
   "outputs": [
    {
     "name": "stdout",
     "output_type": "stream",
     "text": [
      "22\n"
     ]
    }
   ],
   "source": [
    "#sorterar vårt dict (dupplicerade bilder) efter pixelvärde\n",
    "sorted_dict = sortera_dict(duplicates)\n",
    "print(len(sorted_dict))"
   ]
  },
  {
   "cell_type": "code",
   "execution_count": 269,
   "metadata": {},
   "outputs": [],
   "source": [
    "def which_files_delete(sorted_dict):\n",
    "    \"\"\"In vår dict med dupplicerade värden, ut 2 listor, en med unika värden och en med de filer som skall tas bort. \"\"\"\n",
    "    listan = []\n",
    "    listan_pixel = []\n",
    "    listan_delete = []\n",
    "\n",
    "    for key in sorted_dict:\n",
    "        if sorted_dict[key] not in listan_pixel:\n",
    "            listan_pixel.append(sorted_dict[key])\n",
    "            listan.append(key)\n",
    "        else:\n",
    "            listan_delete.append(key) \n",
    "        \n",
    "    print(f\"Filer att spara: {len(listan)}\")\n",
    "    print(f\"Filer att ta bort: {len(listan_delete)}\")\n",
    "\n",
    "    return listan, listan_delete\n",
    "    "
   ]
  },
  {
   "cell_type": "code",
   "execution_count": 270,
   "metadata": {},
   "outputs": [
    {
     "name": "stdout",
     "output_type": "stream",
     "text": [
      "Filer att spara: 11\n",
      "Filer att ta bort: 11\n"
     ]
    }
   ],
   "source": [
    "#kör funktionen för att få en lista på de filer som skall tas bort\n",
    "listan, listan_delete = which_files_delete(sorted_dict)"
   ]
  },
  {
   "cell_type": "code",
   "execution_count": 271,
   "metadata": {},
   "outputs": [],
   "source": [
    "#lägger ihop \"parent folder\" + duplicate_folder + namnet på mappen som körs\n",
    "new_folder = data_path.joinpath(\"duplicate_folder\\\\\"+folder_name+\"\\\\\")\n",
    "\n",
    "#skapar mapp om det inte finns\n",
    "if not exists(new_folder):\n",
    "    os.makedirs(new_folder)"
   ]
  },
  {
   "cell_type": "code",
   "execution_count": 272,
   "metadata": {},
   "outputs": [],
   "source": [
    "def move_and_delete_dup(new_folder, listan_delete):\n",
    "    \"\"\"funktionen skapar en kopia av bilder som skall tas bort och flyttar dessa till en mapp\n",
    "    sedan tas dubbletter bort från originalmappen\"\"\"\n",
    "    filename_number = 0\n",
    "    nr_files_moved = 0\n",
    "\n",
    "    for file in listan_delete:\n",
    "        #path och filnamn och filtyp\n",
    "        filename = str(new_folder)+\"\\\\\"+str(filename_number)+'img.jpg'\n",
    "        filename_number +=1\n",
    "        \n",
    "        #läs bild\n",
    "        img = cv2.imread(str(file))\n",
    "        \n",
    "        #spara dubblett\n",
    "        saving_image = cv2.imwrite(filename, img)\n",
    "        \n",
    "        #ta bort dubblett från orginalmapp\n",
    "        if exists(filename):\n",
    "            remove(str(file))\n",
    "            nr_files_moved += 1\n",
    "        else:\n",
    "            print(\"Couldnt find\",filename)\n",
    "    print(nr_files_moved)"
   ]
  },
  {
   "cell_type": "code",
   "execution_count": 273,
   "metadata": {},
   "outputs": [
    {
     "name": "stdout",
     "output_type": "stream",
     "text": [
      "11\n"
     ]
    }
   ],
   "source": [
    "#Skapa kopior och spara i ny mapp och ta bort dubbletter \n",
    "move_and_delete_dup(new_folder, listan_delete)"
   ]
  }
 ],
 "metadata": {
  "interpreter": {
   "hash": "f590cf11f8f687e4f1329afef9a1319628c7c1f7c0266575b6eaf479ef6affc7"
  },
  "kernelspec": {
   "display_name": "Python 3.8.12 64-bit ('new': conda)",
   "language": "python",
   "name": "python3"
  },
  "language_info": {
   "codemirror_mode": {
    "name": "ipython",
    "version": 3
   },
   "file_extension": ".py",
   "mimetype": "text/x-python",
   "name": "python",
   "nbconvert_exporter": "python",
   "pygments_lexer": "ipython3",
   "version": "3.8.12"
  },
  "orig_nbformat": 4
 },
 "nbformat": 4,
 "nbformat_minor": 2
}
