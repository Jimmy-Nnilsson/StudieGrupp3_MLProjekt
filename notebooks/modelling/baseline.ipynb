{
 "cells": [
  {
   "cell_type": "code",
   "execution_count": 70,
   "metadata": {},
   "outputs": [],
   "source": [
    "import os\n",
    "import numpy as np\n",
    "import tensorflow as tf\n",
    "import matplotlib.pyplot as plt\n",
    "\n",
    "from pathlib import Path\n",
    "from keras.preprocessing.image import load_img, img_to_array, image_dataset_from_directory\n",
    "from tensorflow.keras.applications import vgg16, vgg19\n",
    "\n",
    "import wandb\n",
    "from wandb.keras import WandbCallback"
   ]
  },
  {
   "cell_type": "code",
   "execution_count": 71,
   "metadata": {},
   "outputs": [],
   "source": [
    "def seed_everything():\n",
    "    os.environ['TF_CUDNN_DETERMINISTIC'] = '1' \n",
    "    np.random.seed(hash(\"improves reproducibility\") % 2**32 - 1)\n",
    "    tf.random.set_seed(hash(\"by removing stochasticity\") % 2**32 - 1)\n",
    "    \n",
    "seed_everything()"
   ]
  },
  {
   "cell_type": "code",
   "execution_count": 72,
   "metadata": {},
   "outputs": [],
   "source": [
    "\n",
    "# Get base project directory\n",
    "project_path = Path(os.getcwd()).parent.parent\n",
    "datapath = (project_path /'data/processed/')\n",
    "\n",
    "CLASSES = {0 : 'yes', 1 : 'no'}\n",
    "# Loops through pathlist and reads and resizes images\n",
    "def read_image(pathlist : list, size : int)-> list:\n",
    "    data = []\n",
    "    for path in pathlist:\n",
    "        image=load_img(path, color_mode='rgb', target_size=(size, size))\n",
    "        image=img_to_array(image)\n",
    "        # image=image/255.0\n",
    "        data.append(image)\n",
    "    return data\n",
    "\n",
    "# Makes input and label data from folder locations.\n",
    "# Loops through location \"subfolder/CLASSES\"\n",
    "def get_sets(subfolder : str, CLASSES : dict, size : int) -> tuple[list, list]:\n",
    "    folder_paths = []\n",
    "    folder_labels = []\n",
    "    labels = []\n",
    "    for k,v in CLASSES.items():\n",
    "        # input datapath generation\n",
    "        folder_paths += list((datapath / f\"2_split_{v}/{subfolder}\").rglob(\"*\"))\n",
    "    # Label data generation\n",
    "    folder_labels = [0 if x.stem.split('_')[1] == 'yes' else 1 for x in folder_paths]\n",
    "    # Extract images from datapaths\n",
    "    img_list = read_image(folder_paths, size)\n",
    "\n",
    "    return img_list, folder_labels\n",
    "\n",
    "def get_training_set(CLASSES : dict, size : int) -> tuple[list, list]:\n",
    "    folder_paths = []\n",
    "    folder_labels = []\n",
    "    labels = []\n",
    "    for k,v in CLASSES.items():\n",
    "        # input datapath generation\n",
    "        folder_paths += list((datapath / f\"3_aug_{v}_train/\").rglob(\"*\"))\n",
    "        # print(folder_paths)\n",
    "    # Label data generation\n",
    "    folder_labels = [0 if x.stem.split('_')[1] == 'yes' else 1 for x in folder_paths]\n",
    "    # Extract images from datapaths\n",
    "    img_list = read_image(folder_paths, size)\n",
    "\n",
    "    return img_list, folder_labels\n",
    "\n",
    "# Dataset inspect\n",
    "# Read images to variables\n",
    "size = 224\n",
    "# X_train, y_train = get_training_set(CLASSES, size)\n",
    "X_train, y_train = get_sets('train', CLASSES, size)\n",
    "X_val, y_val = get_sets('val', CLASSES, size)\n",
    "X_test, y_test = get_sets('test', CLASSES, size)"
   ]
  },
  {
   "cell_type": "code",
   "execution_count": 73,
   "metadata": {},
   "outputs": [],
   "source": [
    "base_model = vgg19.VGG19(weights='imagenet', include_top=False, input_shape=(X_train[0].shape[0], X_train[0].shape[1], 3))\n",
    "base_model.trainable = False"
   ]
  },
  {
   "cell_type": "code",
   "execution_count": 74,
   "metadata": {},
   "outputs": [
    {
     "name": "stdout",
     "output_type": "stream",
     "text": [
      "Model: \"model_1\"\n",
      "_________________________________________________________________\n",
      " Layer (type)                Output Shape              Param #   \n",
      "=================================================================\n",
      " input_4 (InputLayer)        [(None, 224, 224, 3)]     0         \n",
      "                                                                 \n",
      " tf.__operators__.getitem_1   (None, 224, 224, 3)      0         \n",
      " (SlicingOpLambda)                                               \n",
      "                                                                 \n",
      " tf.nn.bias_add_1 (TFOpLambd  (None, 224, 224, 3)      0         \n",
      " a)                                                              \n",
      "                                                                 \n",
      " vgg19 (Functional)          (None, 7, 7, 512)         20024384  \n",
      "                                                                 \n",
      " global_average_pooling2d_1   (None, 512)              0         \n",
      " (GlobalAveragePooling2D)                                        \n",
      "                                                                 \n",
      " dense_1 (Dense)             (None, 1)                 513       \n",
      "                                                                 \n",
      "=================================================================\n",
      "Total params: 20,024,897\n",
      "Trainable params: 513\n",
      "Non-trainable params: 20,024,384\n",
      "_________________________________________________________________\n"
     ]
    }
   ],
   "source": [
    "from keras import Model\n",
    "import keras\n",
    "from keras.layers import Dense, Flatten, Dropout, Input, GlobalAveragePooling2D\n",
    "\n",
    "from keras.callbacks import ModelCheckpoint\n",
    "\n",
    "\n",
    "inputs = Input(shape=(X_train[0].shape[0], X_train[0].shape[1], 3))\n",
    "x = vgg19.preprocess_input(inputs)\n",
    "x = base_model(x)\n",
    "x = GlobalAveragePooling2D()(x)\n",
    "# x = Flatten()(x)\n",
    "outputs = Dense(1, activation=\"sigmoid\")(x)\n",
    "\n",
    "model = Model(inputs=inputs, outputs=outputs)\n",
    "\n",
    "model.summary()\n"
   ]
  },
  {
   "cell_type": "code",
   "execution_count": 75,
   "metadata": {},
   "outputs": [],
   "source": [
    "checkpoint_filepath = (Path(os.getcwd()) /'model_checkpoint/model_checkpoint')\n",
    "\n",
    "model_checkpoint_callback = tf.keras.callbacks.ModelCheckpoint(\n",
    "    filepath=checkpoint_filepath,\n",
    "    save_weights_only=True,\n",
    "    monitor='val_accuracy',\n",
    "    mode='max',\n",
    "    save_best_only=True)"
   ]
  },
  {
   "cell_type": "code",
   "execution_count": 76,
   "metadata": {},
   "outputs": [
    {
     "data": {
      "text/html": [
       "\n",
       "                    Syncing run <strong><a href=\"https://wandb.ai/bex_team/baseline_vgg16/runs/33cbn95t\" target=\"_blank\">flowing-resonance-18</a></strong> to <a href=\"https://wandb.ai/bex_team/baseline_vgg16\" target=\"_blank\">Weights & Biases</a> (<a href=\"https://docs.wandb.com/integrations/jupyter.html\" target=\"_blank\">docs</a>).<br/>\n",
       "\n",
       "                "
      ],
      "text/plain": [
       "<IPython.core.display.HTML object>"
      ]
     },
     "metadata": {},
     "output_type": "display_data"
    }
   ],
   "source": [
    "\n",
    "\n",
    "wand_run  = wandb.init(project=\"baseline_vgg16\", entity=\"bex_team\", group=base_model._name.upper(), job_type=\"Baseline\",\n",
    "           config={\"learning_rate\" : 0.001,\n",
    "                   \"epochs\": 50,\n",
    "                   \"batch_size\": 30,\n",
    "                   \"architecture\" : f\"{base_model._name.upper()} global_average_pooling2d\",\n",
    "                   \"dataset\" : \"Brain MRI Images for Brain Tumor Detection\",\n",
    "                   })\n",
    "\n",
    "config = wandb.config\n",
    "# wandb.log({\"model_summary\" : model.summary(), \"base_model_summary\" : base_model.summary()})\n"
   ]
  },
  {
   "cell_type": "code",
   "execution_count": 77,
   "metadata": {},
   "outputs": [
    {
     "name": "stdout",
     "output_type": "stream",
     "text": [
      "Epoch 1/50\n",
      "5/5 - 6s - loss: 1.4179 - accuracy: 0.4240 - val_loss: 0.9792 - val_accuracy: 0.5714 - 6s/epoch - 1s/step\n",
      "Epoch 2/50\n",
      "5/5 - 4s - loss: 1.2735 - accuracy: 0.5840 - val_loss: 0.9879 - val_accuracy: 0.6190 - 4s/epoch - 753ms/step\n",
      "Epoch 3/50\n",
      "5/5 - 5s - loss: 1.1401 - accuracy: 0.5840 - val_loss: 0.7734 - val_accuracy: 0.6429 - 5s/epoch - 950ms/step\n",
      "Epoch 4/50\n",
      "5/5 - 3s - loss: 0.9445 - accuracy: 0.5280 - val_loss: 0.7458 - val_accuracy: 0.6190 - 3s/epoch - 576ms/step\n",
      "Epoch 5/50\n",
      "5/5 - 3s - loss: 0.8637 - accuracy: 0.5600 - val_loss: 0.7048 - val_accuracy: 0.6429 - 3s/epoch - 548ms/step\n",
      "Epoch 6/50\n",
      "5/5 - 5s - loss: 0.7783 - accuracy: 0.6160 - val_loss: 0.6905 - val_accuracy: 0.6667 - 5s/epoch - 942ms/step\n",
      "Epoch 7/50\n",
      "5/5 - 5s - loss: 0.7060 - accuracy: 0.6800 - val_loss: 0.6434 - val_accuracy: 0.6905 - 5s/epoch - 915ms/step\n",
      "Epoch 8/50\n",
      "5/5 - 5s - loss: 0.6433 - accuracy: 0.6960 - val_loss: 0.6279 - val_accuracy: 0.7143 - 5s/epoch - 956ms/step\n",
      "Epoch 9/50\n",
      "5/5 - 6s - loss: 0.5982 - accuracy: 0.7040 - val_loss: 0.6274 - val_accuracy: 0.7381 - 6s/epoch - 1s/step\n",
      "Epoch 10/50\n",
      "5/5 - 4s - loss: 0.5655 - accuracy: 0.7280 - val_loss: 0.6353 - val_accuracy: 0.7857 - 4s/epoch - 815ms/step\n",
      "Epoch 11/50\n",
      "5/5 - 3s - loss: 0.5381 - accuracy: 0.7440 - val_loss: 0.5878 - val_accuracy: 0.7381 - 3s/epoch - 596ms/step\n",
      "Epoch 12/50\n",
      "5/5 - 3s - loss: 0.5313 - accuracy: 0.7440 - val_loss: 0.5674 - val_accuracy: 0.7381 - 3s/epoch - 579ms/step\n",
      "Epoch 13/50\n",
      "5/5 - 3s - loss: 0.5001 - accuracy: 0.7760 - val_loss: 0.5790 - val_accuracy: 0.7857 - 3s/epoch - 506ms/step\n",
      "Epoch 14/50\n",
      "5/5 - 3s - loss: 0.4765 - accuracy: 0.7920 - val_loss: 0.6302 - val_accuracy: 0.7857 - 3s/epoch - 526ms/step\n",
      "Epoch 15/50\n",
      "5/5 - 5s - loss: 0.4620 - accuracy: 0.8160 - val_loss: 0.5669 - val_accuracy: 0.8095 - 5s/epoch - 988ms/step\n",
      "Epoch 16/50\n",
      "5/5 - 3s - loss: 0.4294 - accuracy: 0.8160 - val_loss: 0.5244 - val_accuracy: 0.7619 - 3s/epoch - 622ms/step\n",
      "Epoch 17/50\n",
      "5/5 - 3s - loss: 0.4621 - accuracy: 0.7680 - val_loss: 0.5167 - val_accuracy: 0.7143 - 3s/epoch - 653ms/step\n",
      "Epoch 18/50\n",
      "5/5 - 5s - loss: 0.4223 - accuracy: 0.8000 - val_loss: 0.5285 - val_accuracy: 0.8333 - 5s/epoch - 935ms/step\n",
      "Epoch 19/50\n",
      "5/5 - 3s - loss: 0.3878 - accuracy: 0.8480 - val_loss: 0.5986 - val_accuracy: 0.8095 - 3s/epoch - 547ms/step\n",
      "Epoch 20/50\n",
      "5/5 - 4s - loss: 0.3957 - accuracy: 0.8320 - val_loss: 0.5346 - val_accuracy: 0.8571 - 4s/epoch - 873ms/step\n",
      "Epoch 21/50\n",
      "5/5 - 3s - loss: 0.3652 - accuracy: 0.8400 - val_loss: 0.4752 - val_accuracy: 0.7857 - 3s/epoch - 643ms/step\n",
      "Epoch 22/50\n",
      "5/5 - 3s - loss: 0.3590 - accuracy: 0.8320 - val_loss: 0.4685 - val_accuracy: 0.7857 - 3s/epoch - 611ms/step\n",
      "Epoch 23/50\n",
      "5/5 - 4s - loss: 0.3379 - accuracy: 0.8720 - val_loss: 0.4802 - val_accuracy: 0.8810 - 4s/epoch - 889ms/step\n",
      "Epoch 24/50\n",
      "5/5 - 3s - loss: 0.3208 - accuracy: 0.8720 - val_loss: 0.4864 - val_accuracy: 0.8810 - 3s/epoch - 506ms/step\n",
      "Epoch 25/50\n",
      "5/5 - 4s - loss: 0.3078 - accuracy: 0.8800 - val_loss: 0.4687 - val_accuracy: 0.9048 - 4s/epoch - 893ms/step\n",
      "Epoch 26/50\n",
      "5/5 - 2s - loss: 0.2967 - accuracy: 0.8880 - val_loss: 0.4722 - val_accuracy: 0.9048 - 2s/epoch - 496ms/step\n",
      "Epoch 27/50\n",
      "5/5 - 2s - loss: 0.2873 - accuracy: 0.8880 - val_loss: 0.4840 - val_accuracy: 0.8810 - 2s/epoch - 488ms/step\n",
      "Epoch 28/50\n",
      "5/5 - 3s - loss: 0.2841 - accuracy: 0.8800 - val_loss: 0.4796 - val_accuracy: 0.8810 - 3s/epoch - 523ms/step\n",
      "Epoch 29/50\n",
      "5/5 - 3s - loss: 0.2708 - accuracy: 0.9040 - val_loss: 0.4530 - val_accuracy: 0.8810 - 3s/epoch - 632ms/step\n",
      "Epoch 30/50\n",
      "5/5 - 3s - loss: 0.2612 - accuracy: 0.9120 - val_loss: 0.4551 - val_accuracy: 0.9048 - 3s/epoch - 552ms/step\n",
      "Epoch 31/50\n",
      "5/5 - 3s - loss: 0.2527 - accuracy: 0.9120 - val_loss: 0.4678 - val_accuracy: 0.8810 - 3s/epoch - 521ms/step\n",
      "Epoch 32/50\n",
      "5/5 - 3s - loss: 0.2487 - accuracy: 0.9040 - val_loss: 0.4474 - val_accuracy: 0.8810 - 3s/epoch - 581ms/step\n",
      "Epoch 33/50\n",
      "5/5 - 2s - loss: 0.2374 - accuracy: 0.9280 - val_loss: 0.4498 - val_accuracy: 0.8810 - 2s/epoch - 493ms/step\n",
      "Epoch 34/50\n",
      "5/5 - 2s - loss: 0.2324 - accuracy: 0.9280 - val_loss: 0.4555 - val_accuracy: 0.9048 - 2s/epoch - 485ms/step\n",
      "Epoch 35/50\n",
      "5/5 - 3s - loss: 0.2250 - accuracy: 0.9440 - val_loss: 0.4424 - val_accuracy: 0.8810 - 3s/epoch - 572ms/step\n",
      "Epoch 36/50\n",
      "5/5 - 3s - loss: 0.2163 - accuracy: 0.9600 - val_loss: 0.4202 - val_accuracy: 0.8810 - 3s/epoch - 595ms/step\n",
      "Epoch 37/50\n",
      "5/5 - 2s - loss: 0.2140 - accuracy: 0.9520 - val_loss: 0.4207 - val_accuracy: 0.8810 - 2s/epoch - 478ms/step\n",
      "Epoch 38/50\n",
      "5/5 - 2s - loss: 0.2108 - accuracy: 0.9600 - val_loss: 0.4452 - val_accuracy: 0.8810 - 2s/epoch - 497ms/step\n",
      "Epoch 39/50\n",
      "5/5 - 3s - loss: 0.2030 - accuracy: 0.9520 - val_loss: 0.4368 - val_accuracy: 0.8810 - 3s/epoch - 522ms/step\n",
      "Epoch 40/50\n",
      "5/5 - 3s - loss: 0.1972 - accuracy: 0.9520 - val_loss: 0.4271 - val_accuracy: 0.8810 - 3s/epoch - 504ms/step\n",
      "Epoch 41/50\n",
      "5/5 - 3s - loss: 0.1890 - accuracy: 0.9520 - val_loss: 0.4418 - val_accuracy: 0.8571 - 3s/epoch - 547ms/step\n",
      "Epoch 42/50\n",
      "5/5 - 3s - loss: 0.1910 - accuracy: 0.9600 - val_loss: 0.4336 - val_accuracy: 0.8810 - 3s/epoch - 512ms/step\n",
      "Epoch 43/50\n",
      "5/5 - 3s - loss: 0.1864 - accuracy: 0.9520 - val_loss: 0.3999 - val_accuracy: 0.8810 - 3s/epoch - 599ms/step\n",
      "Epoch 44/50\n",
      "5/5 - 3s - loss: 0.1764 - accuracy: 0.9600 - val_loss: 0.3915 - val_accuracy: 0.8810 - 3s/epoch - 580ms/step\n",
      "Epoch 45/50\n",
      "5/5 - 2s - loss: 0.1716 - accuracy: 0.9600 - val_loss: 0.3998 - val_accuracy: 0.8810 - 2s/epoch - 492ms/step\n",
      "Epoch 46/50\n",
      "5/5 - 2s - loss: 0.1636 - accuracy: 0.9680 - val_loss: 0.4059 - val_accuracy: 0.8810 - 2s/epoch - 486ms/step\n",
      "Epoch 47/50\n",
      "5/5 - 2s - loss: 0.1597 - accuracy: 0.9680 - val_loss: 0.4006 - val_accuracy: 0.8810 - 2s/epoch - 495ms/step\n",
      "Epoch 48/50\n",
      "5/5 - 3s - loss: 0.1620 - accuracy: 0.9680 - val_loss: 0.3887 - val_accuracy: 0.8810 - 3s/epoch - 594ms/step\n",
      "Epoch 49/50\n",
      "5/5 - 2s - loss: 0.1523 - accuracy: 0.9680 - val_loss: 0.4263 - val_accuracy: 0.8810 - 2s/epoch - 468ms/step\n",
      "Epoch 50/50\n",
      "5/5 - 2s - loss: 0.1597 - accuracy: 0.9680 - val_loss: 0.4408 - val_accuracy: 0.8333 - 2s/epoch - 479ms/step\n"
     ]
    },
    {
     "data": {
      "text/html": [
       "<br/>Waiting for W&B process to finish, PID 9652... <strong style=\"color:green\">(success).</strong>"
      ],
      "text/plain": [
       "<IPython.core.display.HTML object>"
      ]
     },
     "metadata": {},
     "output_type": "display_data"
    },
    {
     "data": {
      "text/html": [
       "<style>\n",
       "    table.wandb td:nth-child(1) { padding: 0 10px; text-align: right }\n",
       "    .wandb-row { display: flex; flex-direction: row; flex-wrap: wrap; width: 100% }\n",
       "    .wandb-col { display: flex; flex-direction: column; flex-basis: 100%; flex: 1; padding: 10px; }\n",
       "    </style>\n",
       "<div class=\"wandb-row\"><div class=\"wandb-col\">\n",
       "<h3>Run history:</h3><br/><table class=\"wandb\"><tr><td>accuracy</td><td>▁▃▃▂▃▄▄▅▅▅▆▆▆▅▆▆▆▆▇▇▇▇▇▇▇▇▇▇████████████</td></tr><tr><td>epoch</td><td>▁▁▁▁▂▂▂▂▂▃▃▃▃▃▃▄▄▄▄▄▅▅▅▅▅▅▆▆▆▆▆▆▇▇▇▇▇███</td></tr><tr><td>loss</td><td>█▇▆▅▄▄▄▃▃▃▃▃▃▃▂▂▂▂▂▂▂▂▂▂▂▁▁▁▁▁▁▁▁▁▁▁▁▁▁▁</td></tr><tr><td>val_accuracy</td><td>▁▂▂▂▃▃▄▄▄▄▅▅▅▄▆▆▅▅▇▇█▇▇▇▇▇▇█▇▇▇▇▇▇▇▇▇▇▇▆</td></tr><tr><td>val_loss</td><td>██▅▅▅▄▄▄▃▃▃▄▃▂▃▃▂▂▂▂▂▂▂▂▂▂▂▂▁▁▂▂▂▂▁▁▁▁▁▂</td></tr></table><br/></div><div class=\"wandb-col\">\n",
       "<h3>Run summary:</h3><br/><table class=\"wandb\"><tr><td>accuracy</td><td>0.968</td></tr><tr><td>best_epoch</td><td>47</td></tr><tr><td>best_val_loss</td><td>0.38872</td></tr><tr><td>epoch</td><td>49</td></tr><tr><td>loss</td><td>0.15969</td></tr><tr><td>val_accuracy</td><td>0.83333</td></tr><tr><td>val_loss</td><td>0.44085</td></tr></table>\n",
       "</div></div>\n",
       "Synced 6 W&B file(s), 1800 media file(s), 0 artifact file(s) and 1 other file(s)\n",
       "<br/>Synced <strong style=\"color:#cdcd00\">flowing-resonance-18</strong>: <a href=\"https://wandb.ai/bex_team/baseline_vgg16/runs/33cbn95t\" target=\"_blank\">https://wandb.ai/bex_team/baseline_vgg16/runs/33cbn95t</a><br/>\n",
       "Find logs at: <code>.\\wandb\\run-20220216_112703-33cbn95t\\logs</code><br/>\n"
      ],
      "text/plain": [
       "<IPython.core.display.HTML object>"
      ]
     },
     "metadata": {},
     "output_type": "display_data"
    }
   ],
   "source": [
    "metrics = ['accuracy']\n",
    "\n",
    "tf.keras.backend.clear_session()\n",
    "\n",
    "opt = tf.keras.optimizers.Adam(learning_rate=config.learning_rate)#learning_rate=0.0006)\n",
    "# opt = tf.keras.optimizers.ad(learning_rate=0.00015)\n",
    "model.compile(loss=\"binary_crossentropy\", optimizer=opt, metrics=metrics)\n",
    "# model.compile(loss=\"binary_crossentropy\", optimizer='adam', metrics=metrics)\n",
    "\n",
    "callbacks = keras.callbacks.EarlyStopping(monitor='val_loss', patience=50, restore_best_weights=True)\n",
    "\n",
    "history = model.fit(np.array(X_train), np.array(y_train), validation_data=(np.array(X_val),np.array(y_val)), epochs=config.epochs, batch_size=config.batch_size, verbose=2, callbacks=[callbacks, model_checkpoint_callback, WandbCallback(data_type='image', training_data=(np.array(X_val),np.array(y_val)), labels=CLASSES, save_model=True, save_graph=True)])\n",
    "\n",
    "\n",
    "\n",
    "# trained_model_artifact = wandb.Artifact(config.architecture, type=\"model\", description=\"baseline flatten for vgg16\")\n",
    "# trained_model_artifact.add_dir(checkpoint_filepath.parent)\n",
    "# wand_run.log_artifact(trained_model_artifact)\n",
    "\n",
    "\n",
    "wand_run.finish()"
   ]
  },
  {
   "cell_type": "code",
   "execution_count": 78,
   "metadata": {},
   "outputs": [
    {
     "data": {
      "text/plain": [
       "<matplotlib.legend.Legend at 0x18115861400>"
      ]
     },
     "execution_count": 78,
     "metadata": {},
     "output_type": "execute_result"
    },
    {
     "data": {
      "image/png": "[encoded data removed]",
      "text/plain": [
       "<Figure size 720x432 with 1 Axes>"
      ]
     },
     "metadata": {
      "needs_background": "light"
     },
     "output_type": "display_data"
    },
    {
     "data": {
      "image/png": "[encoded data removed]",
      "text/plain": [
       "<Figure size 720x432 with 1 Axes>"
      ]
     },
     "metadata": {
      "needs_background": "light"
     },
     "output_type": "display_data"
    }
   ],
   "source": [
    "from sklearn.metrics import confusion_matrix, classification_report\n",
    "import seaborn as sns\n",
    "CLASS_NAMES = ['yes', 'no']\n",
    "\n",
    "\n",
    "plt.figure(figsize = (10,6))\n",
    "plt.plot(history.history['accuracy'])\n",
    "plt.plot(history.history['val_accuracy'])\n",
    "plt.title('model accuracy')\n",
    "plt.ylabel('accuracy')\n",
    "plt.xlabel('epoch')\n",
    "plt.legend(['train', 'val'], loc='upper left')\n",
    "\n",
    "plt.figure(figsize = (10,6))\n",
    "plt.plot(history.history['loss'])\n",
    "plt.plot(history.history['val_loss'])\n",
    "plt.title('model loss')\n",
    "plt.ylabel('loss')\n",
    "\n",
    "plt.xlabel('epoch')\n",
    "plt.legend(['train', 'val'], loc='upper left')"
   ]
  },
  {
   "cell_type": "code",
   "execution_count": 79,
   "metadata": {},
   "outputs": [
    {
     "data": {
      "image/png": "[encoded data removed]",
      "text/plain": [
       "<IPython.core.display.Image object>"
      ]
     },
     "execution_count": 79,
     "metadata": {},
     "output_type": "execute_result"
    }
   ],
   "source": [
    "tf.keras.utils.plot_model(model)"
   ]
  },
  {
   "cell_type": "code",
   "execution_count": null,
   "metadata": {},
   "outputs": [],
   "source": []
  }
 ],
 "metadata": {
  "interpreter": {
   "hash": "34d3ccf461250b4bace870432d261068974bab6bb945123048ff42a3b1a5dec5"
  },
  "kernelspec": {
   "display_name": "Python 3.9.0 ('g3')",
   "language": "python",
   "name": "python3"
  },
  "language_info": {
   "codemirror_mode": {
    "name": "ipython",
    "version": 3
   },
   "file_extension": ".py",
   "mimetype": "text/x-python",
   "name": "python",
   "nbconvert_exporter": "python",
   "pygments_lexer": "ipython3",
   "version": "3.9.0"
  },
  "orig_nbformat": 4
 },
 "nbformat": 4,
 "nbformat_minor": 2
}
