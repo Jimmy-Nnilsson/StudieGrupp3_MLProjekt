{
 "cells": [
  {
   "cell_type": "code",
   "execution_count": 13,
   "metadata": {},
   "outputs": [],
   "source": [
    "import numpy as np\n",
    "import os\n",
    "import matplotlib.pyplot as plt\n",
    "\n",
    "from pathlib import Path\n",
    "from keras.preprocessing.image import load_img, img_to_array, image_dataset_from_directory\n",
    "from tensorflow.keras.applications import vgg16, vgg19\n",
    "\n",
    "import wandb\n",
    "from wandb.keras import WandbCallback"
   ]
  },
  {
   "cell_type": "code",
   "execution_count": 14,
   "metadata": {},
   "outputs": [],
   "source": [
    "\n",
    "# Get base project directory\n",
    "project_path = Path(os.getcwd()).parent.parent\n",
    "datapath = (project_path /'data/processed/')\n",
    "\n",
    "CLASSES = {0 : 'yes', 1 : 'no'}\n",
    "# Loops through pathlist and reads and resizes images\n",
    "def read_image(pathlist : list, size : int)-> list:\n",
    "    data = []\n",
    "    for path in pathlist:\n",
    "        image=load_img(path, color_mode='rgb', target_size=(size, size))\n",
    "        image=img_to_array(image)\n",
    "        # image=image/255.0\n",
    "        data.append(image)\n",
    "    return data\n",
    "\n",
    "# Makes input and label data from folder locations.\n",
    "# Loops through location \"subfolder/CLASSES\"\n",
    "def get_sets(subfolder : str, CLASSES : dict, size : int) -> tuple[list, list]:\n",
    "    folder_paths = []\n",
    "    folder_labels = []\n",
    "    labels = []\n",
    "    for k,v in CLASSES.items():\n",
    "        # input datapath generation\n",
    "        folder_paths += list((datapath / f\"2_split_{v}/{subfolder}\").rglob(\"*\"))\n",
    "    # Label data generation\n",
    "    folder_labels = [0 if x.stem.split('_')[1] == 'yes' else 1 for x in folder_paths]\n",
    "    # Extract images from datapaths\n",
    "    img_list = read_image(folder_paths, size)\n",
    "\n",
    "    return img_list, folder_labels\n",
    "\n",
    "def get_training_set(CLASSES : dict, size : int) -> tuple[list, list]:\n",
    "    folder_paths = []\n",
    "    folder_labels = []\n",
    "    labels = []\n",
    "    for k,v in CLASSES.items():\n",
    "        # input datapath generation\n",
    "        folder_paths += list((datapath / f\"3_aug_{v}_train/\").rglob(\"*\"))\n",
    "        # print(folder_paths)\n",
    "    # Label data generation\n",
    "    folder_labels = [0 if x.stem.split('_')[1] == 'yes' else 1 for x in folder_paths]\n",
    "    # Extract images from datapaths\n",
    "    img_list = read_image(folder_paths, size)\n",
    "\n",
    "    return img_list, folder_labels\n",
    "\n",
    "# Dataset inspect\n",
    "# Read images to variables\n",
    "size = 224\n",
    "# X_train, y_train = get_training_set(CLASSES, size)\n",
    "X_train, y_train = get_sets('train', CLASSES, size)\n",
    "X_val, y_val = get_sets('val', CLASSES, size)\n",
    "X_test, y_test = get_sets('test', CLASSES, size)"
   ]
  },
  {
   "cell_type": "code",
   "execution_count": 15,
   "metadata": {},
   "outputs": [
    {
     "data": {
      "text/plain": [
       "(125, 224, 224, 3)"
      ]
     },
     "execution_count": 15,
     "metadata": {},
     "output_type": "execute_result"
    }
   ],
   "source": [
    "np.asarray(X_train).shape"
   ]
  },
  {
   "cell_type": "code",
   "execution_count": 30,
   "metadata": {},
   "outputs": [],
   "source": [
    "base_model = vgg19.VGG19(weights='imagenet', include_top=False, input_shape=(X_train[0].shape[0], X_train[0].shape[1], 3))\n",
    "base_model.trainable = False"
   ]
  },
  {
   "cell_type": "code",
   "execution_count": 31,
   "metadata": {},
   "outputs": [
    {
     "name": "stdout",
     "output_type": "stream",
     "text": [
      "Model: \"model\"\n",
      "_________________________________________________________________\n",
      " Layer (type)                Output Shape              Param #   \n",
      "=================================================================\n",
      " input_2 (InputLayer)        [(None, 224, 224, 3)]     0         \n",
      "                                                                 \n",
      " tf.__operators__.getitem (S  (None, 224, 224, 3)      0         \n",
      " licingOpLambda)                                                 \n",
      "                                                                 \n",
      " tf.nn.bias_add (TFOpLambda)  (None, 224, 224, 3)      0         \n",
      "                                                                 \n",
      " vgg19 (Functional)          (None, 7, 7, 512)         20024384  \n",
      "                                                                 \n",
      " flatten (Flatten)           (None, 25088)             0         \n",
      "                                                                 \n",
      " dense (Dense)               (None, 1)                 25089     \n",
      "                                                                 \n",
      "=================================================================\n",
      "Total params: 20,049,473\n",
      "Trainable params: 25,089\n",
      "Non-trainable params: 20,024,384\n",
      "_________________________________________________________________\n"
     ]
    }
   ],
   "source": [
    "from keras import Model\n",
    "import keras\n",
    "from keras.layers import Dense, Flatten, Dropout, Input, GlobalAveragePooling2D\n",
    "import tensorflow as tf\n",
    "from keras.callbacks import ModelCheckpoint\n",
    "\n",
    "\n",
    "inputs = Input(shape=(X_train[0].shape[0], X_train[0].shape[1], 3))\n",
    "x = vgg16.preprocess_input(inputs)\n",
    "x = base_model(x)\n",
    "# x = GlobalAveragePooling2D()(x)\n",
    "x = Flatten()(x)\n",
    "outputs = Dense(1, activation=\"sigmoid\")(x)\n",
    "\n",
    "model = Model(inputs=inputs, outputs=outputs)\n",
    "\n",
    "model.summary()\n"
   ]
  },
  {
   "cell_type": "code",
   "execution_count": 32,
   "metadata": {},
   "outputs": [],
   "source": [
    "checkpoint_filepath = (Path(os.getcwd()) /'model_checkpoint/model_checkpoint')\n",
    "\n",
    "model_checkpoint_callback = tf.keras.callbacks.ModelCheckpoint(\n",
    "    filepath=checkpoint_filepath,\n",
    "    save_weights_only=True,\n",
    "    monitor='val_accuracy',\n",
    "    mode='max',\n",
    "    save_best_only=True)"
   ]
  },
  {
   "cell_type": "code",
   "execution_count": 33,
   "metadata": {},
   "outputs": [
    {
     "data": {
      "text/html": [
       "\n",
       "                    Syncing run <strong><a href=\"https://wandb.ai/bex_team/baseline_vgg16/runs/2c7o0kkj\" target=\"_blank\">decadent-caress-11</a></strong> to <a href=\"https://wandb.ai/bex_team/baseline_vgg16\" target=\"_blank\">Weights & Biases</a> (<a href=\"https://docs.wandb.com/integrations/jupyter.html\" target=\"_blank\">docs</a>).<br/>\n",
       "\n",
       "                "
      ],
      "text/plain": [
       "<IPython.core.display.HTML object>"
      ]
     },
     "metadata": {},
     "output_type": "display_data"
    }
   ],
   "source": [
    "\n",
    "\n",
    "wand_run  = wandb.init(project=\"baseline_vgg16\", entity=\"bex_team\",\n",
    "           config={\"learning_rate\" : 0.001,\n",
    "                   \"epochs\": 50,\n",
    "                   \"batch_size\": 30,\n",
    "                   \"architecture\" : \"VGG19\",\n",
    "                   \"dataset\" : \"Brain MRI Images for Brain Tumor Detection\"})\n",
    "\n",
    "config = wandb.config\n"
   ]
  },
  {
   "cell_type": "code",
   "execution_count": 34,
   "metadata": {},
   "outputs": [
    {
     "name": "stdout",
     "output_type": "stream",
     "text": [
      "Epoch 1/50\n",
      "5/5 - 7s - loss: 13.0476 - accuracy: 0.5600 - val_loss: 1.5160 - val_accuracy: 0.7619 - 7s/epoch - 1s/step\n",
      "Epoch 2/50\n",
      "5/5 - 4s - loss: 4.5119 - accuracy: 0.6080 - val_loss: 1.6746 - val_accuracy: 0.8095 - 4s/epoch - 779ms/step\n",
      "Epoch 3/50\n",
      "5/5 - 2s - loss: 1.9851 - accuracy: 0.8640 - val_loss: 3.7370 - val_accuracy: 0.6905 - 2s/epoch - 464ms/step\n",
      "Epoch 4/50\n",
      "5/5 - 2s - loss: 1.5843 - accuracy: 0.9040 - val_loss: 2.0985 - val_accuracy: 0.8095 - 2s/epoch - 463ms/step\n",
      "Epoch 5/50\n",
      "5/5 - 2s - loss: 0.6232 - accuracy: 0.9440 - val_loss: 5.4768 - val_accuracy: 0.7143 - 2s/epoch - 485ms/step\n",
      "Epoch 6/50\n",
      "5/5 - 2s - loss: 0.6770 - accuracy: 0.9200 - val_loss: 3.4432 - val_accuracy: 0.7857 - 2s/epoch - 496ms/step\n",
      "Epoch 7/50\n",
      "5/5 - 4s - loss: 0.0733 - accuracy: 0.9840 - val_loss: 1.5403 - val_accuracy: 0.8333 - 4s/epoch - 834ms/step\n",
      "Epoch 8/50\n",
      "5/5 - 4s - loss: 0.0080 - accuracy: 0.9920 - val_loss: 1.4159 - val_accuracy: 0.8810 - 4s/epoch - 866ms/step\n",
      "Epoch 9/50\n",
      "5/5 - 2s - loss: 0.0060 - accuracy: 1.0000 - val_loss: 1.6641 - val_accuracy: 0.8571 - 2s/epoch - 452ms/step\n",
      "Epoch 10/50\n",
      "5/5 - 3s - loss: 0.0137 - accuracy: 1.0000 - val_loss: 1.5822 - val_accuracy: 0.8571 - 3s/epoch - 502ms/step\n",
      "Epoch 11/50\n",
      "5/5 - 3s - loss: 9.9088e-04 - accuracy: 1.0000 - val_loss: 1.4490 - val_accuracy: 0.8810 - 3s/epoch - 506ms/step\n",
      "Epoch 12/50\n",
      "5/5 - 5s - loss: 8.0679e-05 - accuracy: 1.0000 - val_loss: 1.3840 - val_accuracy: 0.9048 - 5s/epoch - 924ms/step\n",
      "Epoch 13/50\n",
      "5/5 - 3s - loss: 1.5580e-05 - accuracy: 1.0000 - val_loss: 1.3546 - val_accuracy: 0.9048 - 3s/epoch - 568ms/step\n",
      "Epoch 14/50\n",
      "5/5 - 3s - loss: 6.8543e-06 - accuracy: 1.0000 - val_loss: 1.3415 - val_accuracy: 0.9048 - 3s/epoch - 595ms/step\n",
      "Epoch 15/50\n",
      "5/5 - 3s - loss: 3.5978e-06 - accuracy: 1.0000 - val_loss: 1.3356 - val_accuracy: 0.8810 - 3s/epoch - 601ms/step\n",
      "Epoch 16/50\n",
      "5/5 - 3s - loss: 2.8868e-06 - accuracy: 1.0000 - val_loss: 1.3329 - val_accuracy: 0.8810 - 3s/epoch - 573ms/step\n",
      "Epoch 17/50\n",
      "5/5 - 3s - loss: 2.2428e-06 - accuracy: 1.0000 - val_loss: 1.3315 - val_accuracy: 0.8810 - 3s/epoch - 616ms/step\n",
      "Epoch 18/50\n",
      "5/5 - 3s - loss: 2.0502e-06 - accuracy: 1.0000 - val_loss: 1.3307 - val_accuracy: 0.8810 - 3s/epoch - 530ms/step\n",
      "Epoch 19/50\n",
      "5/5 - 3s - loss: 1.9080e-06 - accuracy: 1.0000 - val_loss: 1.3303 - val_accuracy: 0.8810 - 3s/epoch - 540ms/step\n",
      "Epoch 20/50\n",
      "5/5 - 3s - loss: 1.8204e-06 - accuracy: 1.0000 - val_loss: 1.3301 - val_accuracy: 0.8810 - 3s/epoch - 554ms/step\n",
      "Epoch 21/50\n",
      "5/5 - 3s - loss: 1.7666e-06 - accuracy: 1.0000 - val_loss: 1.3300 - val_accuracy: 0.8810 - 3s/epoch - 554ms/step\n",
      "Epoch 22/50\n",
      "5/5 - 3s - loss: 1.7364e-06 - accuracy: 1.0000 - val_loss: 1.3299 - val_accuracy: 0.8810 - 3s/epoch - 533ms/step\n",
      "Epoch 23/50\n",
      "5/5 - 3s - loss: 1.7123e-06 - accuracy: 1.0000 - val_loss: 1.3298 - val_accuracy: 0.8810 - 3s/epoch - 534ms/step\n",
      "Epoch 24/50\n",
      "5/5 - 3s - loss: 1.6941e-06 - accuracy: 1.0000 - val_loss: 1.3298 - val_accuracy: 0.8810 - 3s/epoch - 581ms/step\n",
      "Epoch 25/50\n",
      "5/5 - 3s - loss: 1.6828e-06 - accuracy: 1.0000 - val_loss: 1.3297 - val_accuracy: 0.8810 - 3s/epoch - 550ms/step\n",
      "Epoch 26/50\n",
      "5/5 - 3s - loss: 1.6706e-06 - accuracy: 1.0000 - val_loss: 1.3297 - val_accuracy: 0.8810 - 3s/epoch - 589ms/step\n",
      "Epoch 27/50\n",
      "5/5 - 3s - loss: 1.6616e-06 - accuracy: 1.0000 - val_loss: 1.3297 - val_accuracy: 0.8810 - 3s/epoch - 580ms/step\n",
      "Epoch 28/50\n",
      "5/5 - 3s - loss: 1.6531e-06 - accuracy: 1.0000 - val_loss: 1.3297 - val_accuracy: 0.8810 - 3s/epoch - 596ms/step\n",
      "Epoch 29/50\n",
      "5/5 - 3s - loss: 1.6436e-06 - accuracy: 1.0000 - val_loss: 1.3297 - val_accuracy: 0.8810 - 3s/epoch - 583ms/step\n",
      "Epoch 30/50\n",
      "5/5 - 3s - loss: 1.6368e-06 - accuracy: 1.0000 - val_loss: 1.3297 - val_accuracy: 0.8810 - 3s/epoch - 568ms/step\n",
      "Epoch 31/50\n",
      "5/5 - 3s - loss: 1.6255e-06 - accuracy: 1.0000 - val_loss: 1.3297 - val_accuracy: 0.8810 - 3s/epoch - 583ms/step\n",
      "Epoch 32/50\n",
      "5/5 - 3s - loss: 1.6169e-06 - accuracy: 1.0000 - val_loss: 1.3296 - val_accuracy: 0.8810 - 3s/epoch - 604ms/step\n",
      "Epoch 33/50\n",
      "5/5 - 3s - loss: 1.6088e-06 - accuracy: 1.0000 - val_loss: 1.3296 - val_accuracy: 0.8810 - 3s/epoch - 599ms/step\n",
      "Epoch 34/50\n",
      "5/5 - 3s - loss: 1.6011e-06 - accuracy: 1.0000 - val_loss: 1.3296 - val_accuracy: 0.8810 - 3s/epoch - 568ms/step\n",
      "Epoch 35/50\n",
      "5/5 - 3s - loss: 1.5950e-06 - accuracy: 1.0000 - val_loss: 1.3296 - val_accuracy: 0.8810 - 3s/epoch - 578ms/step\n",
      "Epoch 36/50\n",
      "5/5 - 3s - loss: 1.5836e-06 - accuracy: 1.0000 - val_loss: 1.3296 - val_accuracy: 0.8810 - 3s/epoch - 587ms/step\n",
      "Epoch 37/50\n",
      "5/5 - 3s - loss: 1.5758e-06 - accuracy: 1.0000 - val_loss: 1.3296 - val_accuracy: 0.8810 - 3s/epoch - 608ms/step\n",
      "Epoch 38/50\n",
      "5/5 - 3s - loss: 1.5560e-06 - accuracy: 1.0000 - val_loss: 1.3296 - val_accuracy: 0.8810 - 3s/epoch - 611ms/step\n",
      "Epoch 39/50\n",
      "5/5 - 3s - loss: 1.5435e-06 - accuracy: 1.0000 - val_loss: 1.3296 - val_accuracy: 0.8810 - 3s/epoch - 583ms/step\n",
      "Epoch 40/50\n",
      "5/5 - 3s - loss: 1.5326e-06 - accuracy: 1.0000 - val_loss: 1.3296 - val_accuracy: 0.8810 - 3s/epoch - 583ms/step\n",
      "Epoch 41/50\n",
      "5/5 - 3s - loss: 1.5193e-06 - accuracy: 1.0000 - val_loss: 1.3296 - val_accuracy: 0.8810 - 3s/epoch - 609ms/step\n",
      "Epoch 42/50\n",
      "5/5 - 3s - loss: 1.5128e-06 - accuracy: 1.0000 - val_loss: 1.3295 - val_accuracy: 0.8810 - 3s/epoch - 563ms/step\n",
      "Epoch 43/50\n",
      "5/5 - 3s - loss: 1.5058e-06 - accuracy: 1.0000 - val_loss: 1.3295 - val_accuracy: 0.8810 - 3s/epoch - 610ms/step\n",
      "Epoch 44/50\n",
      "5/5 - 3s - loss: 1.4957e-06 - accuracy: 1.0000 - val_loss: 1.3295 - val_accuracy: 0.8810 - 3s/epoch - 602ms/step\n",
      "Epoch 45/50\n",
      "5/5 - 3s - loss: 1.4863e-06 - accuracy: 1.0000 - val_loss: 1.3295 - val_accuracy: 0.8810 - 3s/epoch - 574ms/step\n",
      "Epoch 46/50\n",
      "5/5 - 3s - loss: 1.4810e-06 - accuracy: 1.0000 - val_loss: 1.3295 - val_accuracy: 0.8810 - 3s/epoch - 583ms/step\n",
      "Epoch 47/50\n",
      "5/5 - 3s - loss: 1.4724e-06 - accuracy: 1.0000 - val_loss: 1.3295 - val_accuracy: 0.8810 - 3s/epoch - 571ms/step\n",
      "Epoch 48/50\n",
      "5/5 - 3s - loss: 1.4628e-06 - accuracy: 1.0000 - val_loss: 1.3295 - val_accuracy: 0.8810 - 3s/epoch - 558ms/step\n",
      "Epoch 49/50\n",
      "5/5 - 3s - loss: 1.4560e-06 - accuracy: 1.0000 - val_loss: 1.3295 - val_accuracy: 0.8810 - 3s/epoch - 561ms/step\n",
      "Epoch 50/50\n",
      "5/5 - 3s - loss: 1.4475e-06 - accuracy: 1.0000 - val_loss: 1.3295 - val_accuracy: 0.8810 - 3s/epoch - 577ms/step\n"
     ]
    },
    {
     "name": "stderr",
     "output_type": "stream",
     "text": [
      "\u001b[34m\u001b[1mwandb\u001b[0m: Adding directory to artifact (p:\\Python\\StudieGrupp3_MLProjekt\\notebooks\\modelling\\model_checkpoint)... Done. 0.6s\n"
     ]
    },
    {
     "data": {
      "text/html": [
       "<br/>Waiting for W&B process to finish, PID 2012... <strong style=\"color:green\">(success).</strong>"
      ],
      "text/plain": [
       "<IPython.core.display.HTML object>"
      ]
     },
     "metadata": {},
     "output_type": "display_data"
    },
    {
     "data": {
      "text/html": [
       "<style>\n",
       "    table.wandb td:nth-child(1) { padding: 0 10px; text-align: right }\n",
       "    .wandb-row { display: flex; flex-direction: row; flex-wrap: wrap; width: 100% }\n",
       "    .wandb-col { display: flex; flex-direction: column; flex-basis: 100%; flex: 1; padding: 10px; }\n",
       "    </style>\n",
       "<div class=\"wandb-row\"><div class=\"wandb-col\">\n",
       "<h3>Run history:</h3><br/><table class=\"wandb\"><tr><td>accuracy</td><td>▁▂▆▆▇███████████████████████████████████</td></tr><tr><td>epoch</td><td>▁▁▁▁▂▂▂▂▂▃▃▃▃▃▃▄▄▄▄▄▅▅▅▅▅▅▆▆▆▆▆▆▇▇▇▇▇███</td></tr><tr><td>loss</td><td>█▃▂▂▁▁▁▁▁▁▁▁▁▁▁▁▁▁▁▁▁▁▁▁▁▁▁▁▁▁▁▁▁▁▁▁▁▁▁▁</td></tr><tr><td>val_accuracy</td><td>▃▅▁▅▄▆▇▆▇███▇▇▇▇▇▇▇▇▇▇▇▇▇▇▇▇▇▇▇▇▇▇▇▇▇▇▇▇</td></tr><tr><td>val_loss</td><td>▂▂█▃▇▂▁▂▁▁▁▁▁▁▁▁▁▁▁▁▁▁▁▁▁▁▁▁▁▁▁▁▁▁▁▁▁▁▁▁</td></tr></table><br/></div><div class=\"wandb-col\">\n",
       "<h3>Run summary:</h3><br/><table class=\"wandb\"><tr><td>accuracy</td><td>1.0</td></tr><tr><td>best_epoch</td><td>49</td></tr><tr><td>best_val_loss</td><td>1.32946</td></tr><tr><td>epoch</td><td>49</td></tr><tr><td>loss</td><td>0.0</td></tr><tr><td>val_accuracy</td><td>0.88095</td></tr><tr><td>val_loss</td><td>1.32946</td></tr></table>\n",
       "</div></div>\n",
       "Synced 6 W&B file(s), 1800 media file(s), 3 artifact file(s) and 1 other file(s)\n",
       "<br/>Synced <strong style=\"color:#cdcd00\">decadent-caress-11</strong>: <a href=\"https://wandb.ai/bex_team/baseline_vgg16/runs/2c7o0kkj\" target=\"_blank\">https://wandb.ai/bex_team/baseline_vgg16/runs/2c7o0kkj</a><br/>\n",
       "Find logs at: <code>.\\wandb\\run-20220215_153134-2c7o0kkj\\logs</code><br/>\n"
      ],
      "text/plain": [
       "<IPython.core.display.HTML object>"
      ]
     },
     "metadata": {},
     "output_type": "display_data"
    }
   ],
   "source": [
    "metrics = ['accuracy']\n",
    "\n",
    "tf.keras.backend.clear_session()\n",
    "\n",
    "opt = tf.keras.optimizers.Adam(learning_rate=config.learning_rate)#learning_rate=0.0006)\n",
    "# opt = tf.keras.optimizers.ad(learning_rate=0.00015)\n",
    "model.compile(loss=\"binary_crossentropy\", optimizer=opt, metrics=metrics)\n",
    "# model.compile(loss=\"binary_crossentropy\", optimizer='adam', metrics=metrics)\n",
    "\n",
    "callbacks = keras.callbacks.EarlyStopping(monitor='val_loss', patience=50, restore_best_weights=True)\n",
    "\n",
    "history = model.fit(np.array(X_train), np.array(y_train), validation_data=(np.array(X_val),np.array(y_val)), epochs=config.epochs, batch_size=config.batch_size, verbose=2, callbacks=[callbacks, model_checkpoint_callback, WandbCallback(data_type='image', training_data=(np.array(X_val),np.array(y_val)), labels=CLASSES)])\n",
    "\n",
    "\n",
    "\n",
    "trained_model_artifact = wandb.Artifact(config.architecture, type=\"model\", description=\"baseline flatten for vgg16\")\n",
    "trained_model_artifact.add_dir(checkpoint_filepath.parent)\n",
    "wand_run.log_artifact(trained_model_artifact)\n",
    "\n",
    "\n",
    "wand_run.join()\n",
    "wand_run.finish()"
   ]
  },
  {
   "cell_type": "code",
   "execution_count": 35,
   "metadata": {},
   "outputs": [
    {
     "data": {
      "text/plain": [
       "<matplotlib.legend.Legend at 0x1f493cf8d30>"
      ]
     },
     "execution_count": 35,
     "metadata": {},
     "output_type": "execute_result"
    },
    {
     "data": {
      "image/png": "[encoded data removed]",
      "text/plain": [
       "<Figure size 720x432 with 1 Axes>"
      ]
     },
     "metadata": {
      "needs_background": "light"
     },
     "output_type": "display_data"
    },
    {
     "data": {
      "image/png": "[encoded data removed]",
      "text/plain": [
       "<Figure size 720x432 with 1 Axes>"
      ]
     },
     "metadata": {
      "needs_background": "light"
     },
     "output_type": "display_data"
    }
   ],
   "source": [
    "from sklearn.metrics import confusion_matrix, classification_report\n",
    "import seaborn as sns\n",
    "CLASS_NAMES = ['yes', 'no']\n",
    "\n",
    "\n",
    "plt.figure(figsize = (10,6))\n",
    "plt.plot(history.history['accuracy'])\n",
    "plt.plot(history.history['val_accuracy'])\n",
    "plt.title('model accuracy')\n",
    "plt.ylabel('accuracy')\n",
    "plt.xlabel('epoch')\n",
    "plt.legend(['train', 'val'], loc='upper left')\n",
    "\n",
    "plt.figure(figsize = (10,6))\n",
    "plt.plot(history.history['loss'])\n",
    "plt.plot(history.history['val_loss'])\n",
    "plt.title('model loss')\n",
    "plt.ylabel('loss')\n",
    "\n",
    "plt.xlabel('epoch')\n",
    "plt.legend(['train', 'val'], loc='upper left')"
   ]
  },
  {
   "cell_type": "code",
   "execution_count": 29,
   "metadata": {},
   "outputs": [
    {
     "data": {
      "image/png": "[encoded data removed]",
      "text/plain": [
       "<IPython.core.display.Image object>"
      ]
     },
     "execution_count": 29,
     "metadata": {},
     "output_type": "execute_result"
    }
   ],
   "source": [
    "tf.keras.utils.plot_model(model)"
   ]
  },
  {
   "cell_type": "code",
   "execution_count": null,
   "metadata": {},
   "outputs": [],
   "source": []
  }
 ],
 "metadata": {
  "interpreter": {
   "hash": "34d3ccf461250b4bace870432d261068974bab6bb945123048ff42a3b1a5dec5"
  },
  "kernelspec": {
   "display_name": "Python 3.9.0 ('g3')",
   "language": "python",
   "name": "python3"
  },
  "language_info": {
   "codemirror_mode": {
    "name": "ipython",
    "version": 3
   },
   "file_extension": ".py",
   "mimetype": "text/x-python",
   "name": "python",
   "nbconvert_exporter": "python",
   "pygments_lexer": "ipython3",
   "version": "3.9.0"
  },
  "orig_nbformat": 4
 },
 "nbformat": 4,
 "nbformat_minor": 2
}
