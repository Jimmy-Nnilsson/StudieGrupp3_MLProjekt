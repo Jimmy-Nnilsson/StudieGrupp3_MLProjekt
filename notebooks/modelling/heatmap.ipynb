{
 "cells": [
  {
   "cell_type": "code",
   "execution_count": 1,
   "metadata": {},
   "outputs": [
    {
     "name": "stdout",
     "output_type": "stream",
     "text": [
      "TF:  2.7.0\n"
     ]
    }
   ],
   "source": [
    "import os\n",
    "import numpy as np\n",
    "import random\n",
    "import matplotlib.pyplot as plt\n",
    "import matplotlib.cm as cm\n",
    "import tensorflow as tf\n",
    "# print(\"TF: \", tf.__version__)\n",
    "from keras import layers, models, Model\n",
    "import keras\n",
    "\n",
    "from pathlib import Path\n",
    "from keras.preprocessing.image import load_img, img_to_array, image_dataset_from_directory\n",
    "from keras.applications import vgg16, vgg19\n",
    "\n",
    "import utils\n",
    "# import wandb\n",
    "# from wandb.keras import WandbCallback"
   ]
  },
  {
   "cell_type": "code",
   "execution_count": 2,
   "metadata": {},
   "outputs": [],
   "source": [
    "utils.seed_everything()\n",
    "\n",
    "# Get base project directory\n",
    "project_path = Path(os.getcwd()).parent.parent\n",
    "datapath = (project_path /'data/processed/')\n",
    "\n",
    "CLASSES = {0 : 'yes', 1 : 'no'}"
   ]
  },
  {
   "cell_type": "code",
   "execution_count": 3,
   "metadata": {},
   "outputs": [],
   "source": [
    "# Dataset inspect\n",
    "# Read images to variables\n",
    "size = 224\n",
    "# X_train, y_train = get_training_set(CLASSES, size)\n",
    "X_train, y_train = utils.get_sets('train', CLASSES, size)\n",
    "X_val, y_val = utils.get_sets('val', CLASSES, size)\n",
    "X_test, y_test = utils.get_sets('test', CLASSES, size)"
   ]
  },
  {
   "cell_type": "code",
   "execution_count": 4,
   "metadata": {
    "id": "KHhaOEzCI-w0"
   },
   "outputs": [],
   "source": [
    "configs = dict(\n",
    "    image_width = X_train[0].shape[0],\n",
    "    image_height = X_train[0].shape[1],\n",
    "    image_channels = X_train[0].shape[2],\n",
    "    batch_size = 4,\n",
    "    class_names = CLASSES,\n",
    "    model_name = '', # set after model is defined\n",
    "    pretrain_weights = 'imagenet',\n",
    "    epochs = 5,\n",
    "    init_learning_rate = 0.001,\n",
    "    lr_decay_rate = 0.1,\n",
    "    optimizer = 'adam',\n",
    "    loss_fn = 'binary_crossentropy',\n",
    "    metrics = ['accuracy'],\n",
    "    earlystopping_patience = 5,\n",
    "    architecture = \"\",# To be defined f\"{base_model._name.upper()} global_average_pooling2d\",\n",
    "    dataset = \"Brain_MRI_Images_for_Brain_Tumor_Detection\"\n",
    ")"
   ]
  },
  {
   "cell_type": "code",
   "execution_count": 5,
   "metadata": {},
   "outputs": [
    {
     "name": "stdout",
     "output_type": "stream",
     "text": [
      "convolutional\n",
      "convolutional\n",
      "pooling\n",
      "convolutional\n",
      "convolutional\n",
      "pooling\n",
      "convolutional\n",
      "convolutional\n",
      "convolutional\n",
      "convolutional\n",
      "pooling\n",
      "convolutional\n",
      "convolutional\n",
      "convolutional\n",
      "convolutional\n",
      "pooling\n",
      "convolutional\n",
      "convolutional\n",
      "convolutional\n",
      "convolutional\n",
      "pooling\n",
      "['input_1', 'block1_conv1', 'block1_conv2', 'block1_pool', 'block2_conv1', 'block2_conv2', 'block2_pool', 'block3_conv1', 'block3_conv2', 'block3_conv3', 'block3_conv4', 'block3_pool', 'block4_conv1', 'block4_conv2', 'block4_conv3', 'block4_conv4', 'block4_pool', 'block5_conv1', 'block5_conv2', 'block5_conv3', 'block5_conv4', 'block5_pool']\n"
     ]
    }
   ],
   "source": [
    "list_names = []\n",
    "shape = (X_train[0].shape[0], X_train[0].shape[1], 3)\n",
    "base_model = vgg19.VGG19(weights=configs['pretrain_weights'], include_top=False, input_shape=shape)\n",
    "base_model.trainable = False\n",
    "for layer in base_model.layers:\n",
    "    if str(type(layer)).split('.')[2] != 'input_layer':\n",
    "        print(str(type(layer)).split('.')[2])\n",
    "    list_names.append(layer._name)\n",
    "print(list_names)"
   ]
  },
  {
   "cell_type": "code",
   "execution_count": 6,
   "metadata": {},
   "outputs": [
    {
     "data": {
      "text/plain": [
       "<keras.engine.input_layer.InputLayer at 0x25f0b1ad730>"
      ]
     },
     "execution_count": 6,
     "metadata": {},
     "output_type": "execute_result"
    }
   ],
   "source": [
    "base_model.layers[0]"
   ]
  },
  {
   "cell_type": "code",
   "execution_count": 18,
   "metadata": {
    "id": "wmjJlRYqI-w6"
   },
   "outputs": [
    {
     "name": "stdout",
     "output_type": "stream",
     "text": [
      "Model: \"Baseline_VGG19\"\n",
      "_________________________________________________________________\n",
      " Layer (type)                Output Shape              Param #   \n",
      "=================================================================\n",
      " input_13 (InputLayer)       [(None, 224, 224, 3)]     0         \n",
      "                                                                 \n",
      " block1_conv1 (Conv2D)       (None, 224, 224, 64)      1792      \n",
      "                                                                 \n",
      " block1_conv2 (Conv2D)       (None, 224, 224, 64)      36928     \n",
      "                                                                 \n",
      " block1_pool (MaxPooling2D)  (None, 112, 112, 64)      0         \n",
      "                                                                 \n",
      " block2_conv1 (Conv2D)       (None, 112, 112, 128)     73856     \n",
      "                                                                 \n",
      " block2_conv2 (Conv2D)       (None, 112, 112, 128)     147584    \n",
      "                                                                 \n",
      " block2_pool (MaxPooling2D)  (None, 56, 56, 128)       0         \n",
      "                                                                 \n",
      " block3_conv1 (Conv2D)       (None, 56, 56, 256)       295168    \n",
      "                                                                 \n",
      " block3_conv2 (Conv2D)       (None, 56, 56, 256)       590080    \n",
      "                                                                 \n",
      " block3_conv3 (Conv2D)       (None, 56, 56, 256)       590080    \n",
      "                                                                 \n",
      " block3_conv4 (Conv2D)       (None, 56, 56, 256)       590080    \n",
      "                                                                 \n",
      " block3_pool (MaxPooling2D)  (None, 28, 28, 256)       0         \n",
      "                                                                 \n",
      " block4_conv1 (Conv2D)       (None, 28, 28, 512)       1180160   \n",
      "                                                                 \n",
      " block4_conv2 (Conv2D)       (None, 28, 28, 512)       2359808   \n",
      "                                                                 \n",
      " block4_conv3 (Conv2D)       (None, 28, 28, 512)       2359808   \n",
      "                                                                 \n",
      " block4_conv4 (Conv2D)       (None, 28, 28, 512)       2359808   \n",
      "                                                                 \n",
      " block4_pool (MaxPooling2D)  (None, 14, 14, 512)       0         \n",
      "                                                                 \n",
      " block5_conv1 (Conv2D)       (None, 14, 14, 512)       2359808   \n",
      "                                                                 \n",
      " block5_conv2 (Conv2D)       (None, 14, 14, 512)       2359808   \n",
      "                                                                 \n",
      " block5_conv3 (Conv2D)       (None, 14, 14, 512)       2359808   \n",
      "                                                                 \n",
      " block5_conv4 (Conv2D)       (None, 14, 14, 512)       2359808   \n",
      "                                                                 \n",
      " block5_pool (MaxPooling2D)  (None, 7, 7, 512)         0         \n",
      "                                                                 \n",
      " global_average_pooling2d_2   (None, 512)              0         \n",
      " (GlobalAveragePooling2D)                                        \n",
      "                                                                 \n",
      " dense_2 (Dense)             (None, 1)                 513       \n",
      "                                                                 \n",
      "=================================================================\n",
      "Total params: 20,024,897\n",
      "Trainable params: 513\n",
      "Non-trainable params: 20,024,384\n",
      "_________________________________________________________________\n"
     ]
    }
   ],
   "source": [
    "def get_model(input_shape: tuple=(32, 32, 3),\n",
    "              output_activation: str='sigmoid'):\n",
    "    shape = (X_train[0].shape[0], X_train[0].shape[1], 3)\n",
    "    inputs = layers.Input(input_shape)\n",
    "\n",
    "    base_model = vgg19.VGG19(weights=configs['pretrain_weights'], include_top=False, input_shape=shape)\n",
    "    base_model.trainable = False\n",
    "\n",
    "    configs['architecture'] = base_model._name\n",
    "\n",
    "    # inputs = layers.Input(shape=list(shape))\n",
    "    # inputs = base_model.layers[0].input\n",
    "    # x = vgg19.preprocess_input(inputs)\n",
    "    # for c, layer in enumerate(base_model.layers):\n",
    "    #     if c >= 0:\n",
    "    #         x = layer(x)\n",
    "    \n",
    "    x = layers.GlobalAveragePooling2D()(base_model.output)\n",
    "    \n",
    "    outputs = layers.Dense(1, activation=output_activation)(x)\n",
    "    model  = models.Model(base_model.input, outputs, name=f'Baseline_{base_model._name.upper()}')\n",
    "    return model\n",
    "\n",
    "# tf.keras.backend.clear_session()\n",
    "model = get_model()\n",
    "model.summary()"
   ]
  },
  {
   "cell_type": "code",
   "execution_count": 19,
   "metadata": {},
   "outputs": [],
   "source": [
    "# checkpoint_filepath = (Path(os.getcwd()) /'model_checkpoint/model_checkpoint')\n",
    "\n",
    "# model_checkpoint_callback = tf.keras.callbacks.ModelCheckpoint(\n",
    "#     filepath=checkpoint_filepath,\n",
    "#     save_weights_only=True,\n",
    "#     monitor='val_accuracy',\n",
    "#     mode='max',\n",
    "#     save_best_only=True)"
   ]
  },
  {
   "cell_type": "code",
   "execution_count": 20,
   "metadata": {
    "id": "XUld9o-zI-w6"
   },
   "outputs": [],
   "source": [
    "earlystopper = keras.callbacks.EarlyStopping(\n",
    "    monitor='val_loss', patience=configs['earlystopping_patience'], verbose=0, mode='auto',\n",
    "    restore_best_weights=True\n",
    ")"
   ]
  },
  {
   "cell_type": "code",
   "execution_count": 28,
   "metadata": {
    "id": "kORq8cZJI-w7"
   },
   "outputs": [],
   "source": [
    "def train(config: dict,\n",
    "          callbacks: list,\n",
    "          verbose: int=0):\n",
    "    \"\"\"\n",
    "    Utility function to train the model.\n",
    "\n",
    "    Arguments:\n",
    "        config (dict): Dictionary of hyperparameters.\n",
    "        callbacks (list): List of callbacks passed to `model.fit`.\n",
    "        verbose (int): 0 for silent and 1 for progress bar.\n",
    "    \"\"\"\n",
    "\n",
    "    # Initalize model\n",
    "    # tf.keras.backend.clear_session()\n",
    "    model = get_model(input_shape=(config['image_width'], config['image_height'], config['image_channels']))\n",
    "    config['model_name'] = model.name # set\n",
    "\n",
    "\n",
    "    # Compile the model\n",
    "    opt = tf.keras.optimizers.Adam(learning_rate=config['init_learning_rate'])\n",
    "    model.compile(optimizer=opt,\n",
    "                  loss=config['loss_fn'],\n",
    "                  metrics=config['metrics'])\n",
    "# model.compile(loss=\"binary_crossentropy\", optimizer=opt, metrics=metrics)\n",
    "    # Train the model\n",
    "    _ = model.fit(vgg19.preprocess_input(X_train), y_train,\n",
    "                  epochs=config['epochs'],\n",
    "                  validation_data=(np.array(X_val),np.array(y_val)),\n",
    "                  callbacks=callbacks,\n",
    "                  batch_size=config['batch_size'],\n",
    "                  verbose=verbose)\n",
    "\n",
    "    return model"
   ]
  },
  {
   "cell_type": "code",
   "execution_count": 29,
   "metadata": {
    "id": "dbrdw5KoI-w7"
   },
   "outputs": [
    {
     "name": "stdout",
     "output_type": "stream",
     "text": [
      "Epoch 1/5\n",
      "32/32 - 3s - loss: 1.2489 - accuracy: 0.5280 - val_loss: 1.5742 - val_accuracy: 0.5238 - 3s/epoch - 80ms/step\n",
      "Epoch 2/5\n",
      "32/32 - 1s - loss: 0.7659 - accuracy: 0.6800 - val_loss: 1.5392 - val_accuracy: 0.5952 - 1s/epoch - 42ms/step\n",
      "Epoch 3/5\n",
      "32/32 - 1s - loss: 0.6041 - accuracy: 0.7280 - val_loss: 1.3192 - val_accuracy: 0.5952 - 1s/epoch - 42ms/step\n",
      "Epoch 4/5\n",
      "32/32 - 1s - loss: 0.4880 - accuracy: 0.7840 - val_loss: 1.2054 - val_accuracy: 0.6190 - 1s/epoch - 42ms/step\n",
      "Epoch 5/5\n",
      "32/32 - 1s - loss: 0.4199 - accuracy: 0.8080 - val_loss: 1.2300 - val_accuracy: 0.6429 - 1s/epoch - 40ms/step\n"
     ]
    }
   ],
   "source": [
    "config = configs\n",
    "callbacks = [earlystopper]\n",
    "\n",
    "model = train(config, callbacks=callbacks, verbose=2)\n"
   ]
  },
  {
   "cell_type": "code",
   "execution_count": 30,
   "metadata": {
    "id": "_yUye2ChI-w8"
   },
   "outputs": [],
   "source": [
    "last_conv_layer_name = 'block5_conv4'"
   ]
  },
  {
   "cell_type": "code",
   "execution_count": 34,
   "metadata": {},
   "outputs": [],
   "source": [
    "\n",
    "def get_img_array(img_path, size):\n",
    "    # `img` is a PIL image of size 299x299\n",
    "    img = keras.preprocessing.image.load_img(img_path, target_size=size)\n",
    "    # `array` is a float32 Numpy array of shape (299, 299, 3)\n",
    "    array = keras.preprocessing.image.img_to_array(img)\n",
    "    # We add a dimension to transform our array into a \"batch\"\n",
    "    # of size (1, 299, 299, 3)\n",
    "    array = np.expand_dims(array, axis=0)\n",
    "    return array\n",
    "\n",
    "\n",
    "def make_gradcam_heatmap(img_array, model, last_conv_layer_name, pred_index=None):\n",
    "    # First, we create a model that maps the input image to the activations\n",
    "    # of the last conv layer as well as the output predictions\n",
    "    grad_model = tf.keras.models.Model(\n",
    "        #[model.inputs], [model.get_layer('vgg19').get_layer(last_conv_layer_name).output, model.output]\n",
    "        [model.inputs], [model.get_layer(last_conv_layer_name).output, model.output]\n",
    "    )\n",
    "\n",
    "    # Then, we compute the gradient of the top predicted class for our input image\n",
    "    # with respect to the activations of the last conv layer\n",
    "    with tf.GradientTape() as tape:\n",
    "        last_conv_layer_output, preds = grad_model(img_array)\n",
    "        if pred_index is None:\n",
    "            pred_index = tf.argmax(preds[0])\n",
    "        class_channel = preds[:, pred_index]\n",
    "\n",
    "    # This is the gradient of the output neuron (top predicted or chosen)\n",
    "    # with regard to the output feature map of the last conv layer\n",
    "    grads = tape.gradient(class_channel, last_conv_layer_output)\n",
    "    \n",
    "    # This is a vector where each entry is the mean intensity of the gradient\n",
    "    # over a specific feature map channel\n",
    "    pooled_grads = tf.reduce_mean(grads, axis=(0, 1, 2))\n",
    "\n",
    "    # We multiply each channel in the feature map array\n",
    "    # by \"how important this channel is\" with regard to the top predicted class\n",
    "    # then sum all the channels to obtain the heatmap class activation\n",
    "    last_conv_layer_output = last_conv_layer_output[0]\n",
    "    heatmap = last_conv_layer_output @ pooled_grads[..., tf.newaxis]\n",
    "    heatmap = tf.squeeze(heatmap)\n",
    "\n",
    "    # For visualization purpose, we will also normalize the heatmap between 0 & 1\n",
    "    heatmap = tf.maximum(heatmap, 0) / tf.math.reduce_max(heatmap)\n",
    "    return heatmap.numpy()"
   ]
  },
  {
   "cell_type": "code",
   "execution_count": 35,
   "metadata": {},
   "outputs": [],
   "source": [
    "# for l in model.get_layer('vgg19').layers:\n",
    "#     print(l._name)"
   ]
  },
  {
   "cell_type": "code",
   "execution_count": 36,
   "metadata": {},
   "outputs": [
    {
     "data": {
      "image/png": "[encoded data removed]",
      "text/plain": [
       "<Figure size 288x288 with 1 Axes>"
      ]
     },
     "metadata": {
      "needs_background": "light"
     },
     "output_type": "display_data"
    }
   ],
   "source": [
    "x = np.expand_dims(X_train[0], axis=0)\n",
    "# x = keras.preprocessing.image.img_to_array(x)\n",
    "# Print what the top predicted class is\n",
    "preds = model.predict(x)\n",
    "\n",
    "# Generate class activation heatmap\n",
    "heatmap = make_gradcam_heatmap(x, model, \"block5_conv4\")\n",
    "\n",
    "# Display heatmap\n",
    "plt.matshow(heatmap)\n",
    "plt.show()"
   ]
  },
  {
   "cell_type": "code",
   "execution_count": null,
   "metadata": {},
   "outputs": [],
   "source": [
    "for l in model.layers:\n",
    "    print(l._name)"
   ]
  }
 ],
 "metadata": {
  "interpreter": {
   "hash": "67f495f3a98c863f9b203ff8f335ccecec58403956d94b2cbc6c3bef6b2dc434"
  },
  "kernelspec": {
   "display_name": "Python 3.9.0 ('ecpython')",
   "language": "python",
   "name": "python3"
  },
  "language_info": {
   "codemirror_mode": {
    "name": "ipython",
    "version": 3
   },
   "file_extension": ".py",
   "mimetype": "text/x-python",
   "name": "python",
   "nbconvert_exporter": "python",
   "pygments_lexer": "ipython3",
   "version": "3.9.0"
  },
  "orig_nbformat": 4
 },
 "nbformat": 4,
 "nbformat_minor": 2
}
