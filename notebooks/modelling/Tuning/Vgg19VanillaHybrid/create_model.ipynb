{
 "cells": [
  {
   "cell_type": "code",
   "execution_count": 115,
   "metadata": {},
   "outputs": [],
   "source": [
    "from keras import Model\n",
    "from keras import layers\n",
    "import keras\n",
    "import tensorflow as tf\n",
    "import os\n",
    "import random\n",
    "import matplotlib.pyplot as plt\n",
    "\n",
    "from keras.preprocessing.image import load_img, img_to_array, image_dataset_from_directory\n",
    "from pathlib import Path\n",
    "import numpy as np\n",
    "\n",
    "from keras.applications import vgg19"
   ]
  },
  {
   "cell_type": "code",
   "execution_count": 116,
   "metadata": {
    "colab": {
     "base_uri": "https://localhost:8080/",
     "height": 972
    },
    "executionInfo": {
     "elapsed": 107924,
     "status": "ok",
     "timestamp": 1645806720231,
     "user": {
      "displayName": "Jimmy Nilsson",
      "photoUrl": "https://lh3.googleusercontent.com/a/default-user=s64",
      "userId": "16604156050067165706"
     },
     "user_tz": -60
    },
    "id": "fEjD-RrDEax6",
    "outputId": "00e43287-6d9b-4448-9834-d02e8eedd21a"
   },
   "outputs": [],
   "source": [
    "# Setup if running in colab\n",
    "RunningInCOLAB = 'google.colab' in str(get_ipython())\n",
    "if RunningInCOLAB:\n",
    "  try:\n",
    "    if runonce:\n",
    "      print(\"Already ran\")\n",
    "  \n",
    "  except:\n",
    "    runonce = True\n",
    "    !git clone https://github.com/Jimmy-Nnilsson/StudieGrupp3_MLProjekt.git\n",
    "    "
   ]
  },
  {
   "cell_type": "code",
   "execution_count": 117,
   "metadata": {
    "executionInfo": {
     "elapsed": 7,
     "status": "ok",
     "timestamp": 1645806724067,
     "user": {
      "displayName": "Jimmy Nilsson",
      "photoUrl": "https://lh3.googleusercontent.com/a/default-user=s64",
      "userId": "16604156050067165706"
     },
     "user_tz": -60
    },
    "id": "tc9140-sEYiB"
   },
   "outputs": [],
   "source": [
    "def seed_everything():\n",
    "    # os.environ['PYTHONHASHSEED'] = '0'\n",
    "    os.environ['TF_CUDNN_DETERMINISTIC'] = '1' \n",
    "    random.seed(1254)\n",
    "    np.random.seed(hash(\"improves reproducibility\") % 2**32 - 1)\n",
    "    tf.random.set_seed(hash(\"by removing stochasticity\") % 2**32 - 1)\n",
    "\n",
    "seed_everything()"
   ]
  },
  {
   "cell_type": "code",
   "execution_count": 118,
   "metadata": {
    "executionInfo": {
     "elapsed": 6,
     "status": "ok",
     "timestamp": 1645806724068,
     "user": {
      "displayName": "Jimmy Nilsson",
      "photoUrl": "https://lh3.googleusercontent.com/a/default-user=s64",
      "userId": "16604156050067165706"
     },
     "user_tz": -60
    },
    "id": "Cnn3A9AdEYiC"
   },
   "outputs": [],
   "source": [
    "# Get base project directory\n",
    "if not RunningInCOLAB:\n",
    "#   project_path = Path(os.getcwd()).parent.parent\n",
    "\n",
    "  for i, p in enumerate(Path(os.getcwd()).parts):\n",
    "    if p == \"StudieGrupp3_MLProjekt\":\n",
    "        break\n",
    "    pathparts = list(Path(os.getcwd()).parts[0:i+2])\n",
    "    project_path = Path(pathparts[0],\"\\\\\\\\\".join(pathparts[1:]))\n",
    "else:\n",
    "  project_path = Path('/content/StudieGrupp3_MLProjekt/')\n",
    "datapath = (project_path /'data/')\n",
    "\n",
    "CLASSES = {0 : 'no', 1 : 'yes'}\n",
    "# Loops through pathlist and reads and resizes images\n",
    "def read_image(pathlist : list, size : int)-> list:\n",
    "    data = []\n",
    "    for path in pathlist:\n",
    "        image=load_img(path, color_mode='rgb', target_size=(size, size))\n",
    "        image=img_to_array(image)\n",
    "        \n",
    "        data.append(image)\n",
    "    data = np.asarray(data, dtype=np.uint8)\n",
    "    return data\n",
    "\n",
    "# Makes input and label data from folder locations.\n",
    "# Loops through location \"subfolder/CLASSES\"\n",
    "def get_sets(subfolder : str, CLASSES : dict, size : int):\n",
    "    folder_paths = []\n",
    "    folder_labels = []\n",
    "    labels = []\n",
    "    for k,v in CLASSES.items():\n",
    "        # input datapath generation\n",
    "        new_path = (datapath / f\"processed/2_split_{v}/{subfolder}\")\n",
    "        folder_paths += list((new_path).rglob(\"*\"))\n",
    "        list_len = len(list((new_path).rglob(\"*\")))\n",
    "        folder_labels += [k for i in range(list_len)]\n",
    "        \n",
    "    # Label data generation\n",
    "    folder_labels = np.asarray(folder_labels, dtype=np.uint8)\n",
    "    ohe_folder_labels = tf.keras.utils.to_categorical(folder_labels, len(CLASSES))\n",
    "    # Extract images from datapaths\n",
    "    img_list = read_image(folder_paths, size)\n",
    "\n",
    "    return img_list, folder_labels, ohe_folder_labels\n",
    "\n",
    "def get_training_set(subfolder, CLASSES : dict, size : int):\n",
    "    folder_paths = []\n",
    "    folder_labels = []\n",
    "    labels = []\n",
    "    for k,v in CLASSES.items():\n",
    "        # input datapath generation\n",
    "        \n",
    "        new_path = (datapath / f\"processed_dataset_2/3_split_{v}/{subfolder}/\")\n",
    "        folder_paths += list((new_path).rglob(\"*\"))\n",
    "    folder_labels = [0 if x.stem.split('_')[1] == 'yes' else 1 for x in folder_paths]\n",
    "    folder_labels = np.asarray(folder_labels, dtype=np.uint8)\n",
    "    ohe_folder_labels = tf.keras.utils.to_categorical(folder_labels, len(CLASSES))\n",
    "    # Extract images from datapaths\n",
    "    img_list = read_image(folder_paths, size)\n",
    "\n",
    "    return img_list, folder_labels, ohe_folder_labels"
   ]
  },
  {
   "cell_type": "markdown",
   "metadata": {
    "id": "1jDJ9plmgxlC"
   },
   "source": [
    "Load Pictures"
   ]
  },
  {
   "cell_type": "code",
   "execution_count": 119,
   "metadata": {
    "executionInfo": {
     "elapsed": 35987,
     "status": "ok",
     "timestamp": 1645806760050,
     "user": {
      "displayName": "Jimmy Nilsson",
      "photoUrl": "https://lh3.googleusercontent.com/a/default-user=s64",
      "userId": "16604156050067165706"
     },
     "user_tz": -60
    },
    "id": "Fc4RQseIEYiE"
   },
   "outputs": [],
   "source": [
    "# Dataset inspect\n",
    "# Read images to variables\n",
    "\n",
    "size = 224\n",
    "X_train, y_train, y_train_ohe = get_sets('train', CLASSES, size)\n",
    "X_val, y_val, y_val_ohe = get_sets('val', CLASSES, size)\n",
    "X_test, y_test, y_test_ohe = get_sets('test', CLASSES, size)\n"
   ]
  },
  {
   "cell_type": "markdown",
   "metadata": {
    "id": "S2vj4b_rgxlF"
   },
   "source": [
    "Data loader"
   ]
  },
  {
   "cell_type": "code",
   "execution_count": 120,
   "metadata": {
    "id": "BACMLdC0I-w3"
   },
   "outputs": [],
   "source": [
    "#@title\n",
    "@tf.function\n",
    "def preprocess(image: tf.Tensor, label: tf.Tensor):\n",
    "    \"\"\"\n",
    "    Preprocess the image tensors and parse the labels\n",
    "    \"\"\"\n",
    "    # Preprocess images\n",
    "    image = tf.image.convert_image_dtype(image, tf.float32)\n",
    "\n",
    "    # Parse label\n",
    "    label = tf.cast(label, tf.float32)\n",
    "\n",
    "    return image, label\n",
    "\n",
    "\n",
    "def prepare_dataloader(images: np.ndarray,\n",
    "                       labels: np.ndarray,\n",
    "                       loader_type: str='train',\n",
    "                       batch_size: int=128):\n",
    "    \"\"\"\n",
    "    Utility function to prepare dataloader.\n",
    "    \"\"\"\n",
    "    images = model_preprocess(images)\n",
    "    dataset = tf.data.Dataset.from_tensor_slices((images, labels))\n",
    "\n",
    "    if loader_type=='train':\n",
    "        dataset = dataset.shuffle(1024)\n",
    "\n",
    "    dataloader = (\n",
    "        dataset\n",
    "        .map(preprocess, num_parallel_calls=tf.data.AUTOTUNE)\n",
    "        .batch(batch_size)\n",
    "        .prefetch(tf.data.AUTOTUNE)\n",
    "    )\n",
    "\n",
    "    return dataloader\n",
    "\n",
    "def model_preprocess(images):\n",
    "    images = vgg19.preprocess_input(images)\n",
    "    return images"
   ]
  },
  {
   "cell_type": "markdown",
   "metadata": {
    "id": "dAr1WwrYgxlH"
   },
   "source": [
    "Config parameters"
   ]
  },
  {
   "cell_type": "code",
   "execution_count": 121,
   "metadata": {
    "id": "KHhaOEzCI-w0"
   },
   "outputs": [],
   "source": [
    "# Mind model processing\n",
    "# Finetune not complete\n",
    "configs = dict(\n",
    "    project_name = \"MRI_Baseline_3\", #Project Name\n",
    "    mode = 'disabled', #{'offline', 'run', 'disabled', 'dryrun', 'online'} # WandB run status\n",
    "    job_type = \"\", #Run type for WandB\n",
    "    group = \"\", # Group in WandB\n",
    "    sub_group = \"_s2_twostep\",\n",
    "\n",
    "    class_names = CLASSES, # Classes for training\n",
    "    training_set = \"\",\n",
    "\n",
    "    image_width = X_train[0].shape[0], # Picture width for model input\n",
    "    image_height = X_train[0].shape[1], # Picture height for model input\n",
    "    image_channels = X_train[0].shape[2], # Picture channels for model input\n",
    "\n",
    "    pretrain_weights = 'imagenet', # pretrained weights for basemodel if any\n",
    "    batch_size = 4, # Batchsize for training\n",
    "    init_learning_rate = 0.0004, # Initial training rate if no callback is used\n",
    "    lr_decay_rate = 0.1, #decayrate of training rate\n",
    "    epochs = 50, # Epochs to train\n",
    "    optimizer = 'rmsprop', # The optimizer used by the ml model\n",
    "    loss_fn = 'CategoricalCrossentropy', # Loss function\n",
    "    metrics = ['accuracy', 'CategoricalCrossentropy'], # Metrics\n",
    "    earlystopping_patience = 5, # For the early stopping callback\n",
    "\n",
    "    dataset = \"Brain_MRI_Images_for_Brain_Tumor_Detection\",\n",
    "    fine_tune_learning_rate = 3e-5, # learningrate Used during fine tuning\n",
    "    fine_tune_epochs = 10, # Epochs ran at finetuning\n",
    "\n",
    "    architecture = \"\",# To be defined f\"{base_model._name.upper()} global_average_pooling2d\",\n",
    "    model_name = '' # set after model is defined # Name of the ml Model\n",
    "\n",
    ")"
   ]
  },
  {
   "cell_type": "code",
   "execution_count": 141,
   "metadata": {},
   "outputs": [],
   "source": [
    "def get_preprocess():\n",
    "    inputs = layers.Input(shape=(224,224,3))\n",
    "    x = vgg19.preprocess_input(inputs)\n",
    "    x = layers.Resizing(224,224)(x)\n",
    "    return Model(inputs, x, name=\"Pro\")\n"
   ]
  },
  {
   "cell_type": "code",
   "execution_count": 142,
   "metadata": {},
   "outputs": [],
   "source": [
    "preprocess_model = get_preprocess()"
   ]
  },
  {
   "cell_type": "code",
   "execution_count": 154,
   "metadata": {},
   "outputs": [],
   "source": [
    "def get_vgg19():\n",
    "    tf.keras.backend.clear_session()\n",
    "    kwarg = dict(weights=configs['pretrain_weights'], include_top=False, input_shape=(224,224,3))\n",
    "    base_model = vgg19.VGG19(**kwarg)\n",
    "\n",
    "    return Model(base_model.input, base_model.output, name=f'vgg19')"
   ]
  },
  {
   "cell_type": "code",
   "execution_count": 155,
   "metadata": {},
   "outputs": [],
   "source": [
    "vgg19_model = get_vgg19()"
   ]
  },
  {
   "cell_type": "code",
   "execution_count": 157,
   "metadata": {},
   "outputs": [
    {
     "name": "stdout",
     "output_type": "stream",
     "text": [
      "Model: \"model_1\"\n",
      "_________________________________________________________________\n",
      " Layer (type)                Output Shape              Param #   \n",
      "=================================================================\n",
      " input_4 (InputLayer)        [(None, 224, 224, 3)]     0         \n",
      "                                                                 \n",
      " Pro (Functional)            (None, 224, 224, 3)       0         \n",
      "                                                                 \n",
      " vgg19 (Functional)          (None, 7, 7, 512)         20024384  \n",
      "                                                                 \n",
      " global_average_pooling2d_1   (None, 512)              0         \n",
      " (GlobalAveragePooling2D)                                        \n",
      "                                                                 \n",
      " dense_4 (Dense)             (None, 128)               65664     \n",
      "                                                                 \n",
      " dense_5 (Dense)             (None, 64)                8256      \n",
      "                                                                 \n",
      " dense_6 (Dense)             (None, 32)                2080      \n",
      "                                                                 \n",
      "=================================================================\n",
      "Total params: 20,100,384\n",
      "Trainable params: 20,100,384\n",
      "Non-trainable params: 0\n",
      "_________________________________________________________________\n"
     ]
    }
   ],
   "source": [
    "inputs = preprocess_model.input\n",
    "x = preprocess_model(inputs)\n",
    "x = vgg19_model(x)\n",
    "x = layers.GlobalAveragePooling2D()(x)\n",
    "x = layers.Dense(128, activation='relu')(x)\n",
    "x = layers.Dense(64, activation='relu')(x)\n",
    "x = layers.Dense(32, activation='relu')(x)\n",
    "outputs = layers.Dense(2, activation='softmax')(x)\n",
    "\n",
    "test = Model(inputs, x)\n",
    "test.summary()\n"
   ]
  },
  {
   "cell_type": "code",
   "execution_count": 158,
   "metadata": {},
   "outputs": [
    {
     "data": {
      "image/png": "[encoded data removed]",
      "text/plain": [
       "<IPython.core.display.Image object>"
      ]
     },
     "execution_count": 158,
     "metadata": {},
     "output_type": "execute_result"
    }
   ],
   "source": [
    "tf.keras.utils.plot_model(test)"
   ]
  },
  {
   "cell_type": "code",
   "execution_count": null,
   "metadata": {},
   "outputs": [],
   "source": []
  }
 ],
 "metadata": {
  "interpreter": {
   "hash": "67f495f3a98c863f9b203ff8f335ccecec58403956d94b2cbc6c3bef6b2dc434"
  },
  "kernelspec": {
   "display_name": "Python 3.9.0 ('ecpython')",
   "language": "python",
   "name": "python3"
  },
  "language_info": {
   "codemirror_mode": {
    "name": "ipython",
    "version": 3
   },
   "file_extension": ".py",
   "mimetype": "text/x-python",
   "name": "python",
   "nbconvert_exporter": "python",
   "pygments_lexer": "ipython3",
   "version": "3.9.0"
  },
  "orig_nbformat": 4
 },
 "nbformat": 4,
 "nbformat_minor": 2
}
