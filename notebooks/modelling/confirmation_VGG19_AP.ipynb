{
 "cells": [
  {
   "cell_type": "markdown",
   "metadata": {},
   "source": [
    "# --BREAKING NEWS - CONFIRM MODEL!--\n"
   ]
  },
  {
   "cell_type": "code",
   "execution_count": 1,
   "metadata": {},
   "outputs": [],
   "source": [
    "import pathlib\n",
    "from tensorflow.keras.applications import vgg19\n",
    "import cv2\n",
    "import numpy as np\n",
    "import matplotlib.pyplot as plt"
   ]
  },
  {
   "cell_type": "markdown",
   "metadata": {},
   "source": [
    "# Se till att detta pekar på ditt egna val-bibliotek"
   ]
  },
  {
   "cell_type": "code",
   "execution_count": 2,
   "metadata": {},
   "outputs": [],
   "source": [
    "val_no_dataset  = pathlib.Path(r\"C:\\Users\\AndreasP\\Desktop\\StudieGrupp3_MLProjekt\\data\\processed\\2_split_no\\val\")\n",
    "val_yes_dataset = pathlib.Path(r\"C:\\Users\\AndreasP\\Desktop\\StudieGrupp3_MLProjekt\\data\\processed\\2_split_yes\\val\")\n"
   ]
  },
  {
   "cell_type": "code",
   "execution_count": 3,
   "metadata": {},
   "outputs": [],
   "source": [
    "p = val_no_dataset.glob('*/')\n",
    "file_paths = [x for x in p if x.is_file()]\n",
    "img_lst = []\n",
    "lbl_lst = []\n",
    "for pic in file_paths:\n",
    "    img = cv2.imread(str(pic))\n",
    "    img_lst.append(img)\n",
    "    lbl_lst.append(1)\n",
    "\n",
    "p = val_yes_dataset.glob('*/')\n",
    "file_paths = [x for x in p if x.is_file()]\n",
    "for pic in file_paths:\n",
    "    img = cv2.imread(str(pic))\n",
    "    img_lst.append(img)\n",
    "    lbl_lst.append(0)"
   ]
  },
  {
   "cell_type": "code",
   "execution_count": 4,
   "metadata": {},
   "outputs": [],
   "source": [
    "data= np.array(img_lst).reshape(-1,224,224,3)"
   ]
  },
  {
   "cell_type": "markdown",
   "metadata": {},
   "source": [
    "# OBS! Av lathet har jag inte bytt namn. Så bry er inte om att det står X_test"
   ]
  },
  {
   "cell_type": "code",
   "execution_count": 5,
   "metadata": {},
   "outputs": [],
   "source": [
    "images = vgg19.preprocess_input(data) \n",
    "X_test = images\n",
    "y_test = lbl_lst"
   ]
  },
  {
   "cell_type": "markdown",
   "metadata": {},
   "source": [
    "# Peka på golden model!"
   ]
  },
  {
   "cell_type": "code",
   "execution_count": 6,
   "metadata": {},
   "outputs": [],
   "source": [
    "from tensorflow import keras\n",
    "model = keras.models.load_model(r'C:\\Users\\AndreasP\\Desktop\\StudieGrupp3_MLProjekt\\notebooks\\modelling\\model_checkpoint\\first_golden_model.h5')"
   ]
  },
  {
   "cell_type": "markdown",
   "metadata": {},
   "source": [
    "## Skapar rapport på modellen"
   ]
  },
  {
   "cell_type": "code",
   "execution_count": 7,
   "metadata": {},
   "outputs": [
    {
     "name": "stdout",
     "output_type": "stream",
     "text": [
      "              precision    recall  f1-score   support\n",
      "\n",
      "         YES       0.92      1.00      0.96        24\n",
      "          NO       1.00      0.89      0.94        18\n",
      "\n",
      "    accuracy                           0.95        42\n",
      "   macro avg       0.96      0.94      0.95        42\n",
      "weighted avg       0.96      0.95      0.95        42\n",
      "\n"
     ]
    },
    {
     "data": {
      "image/png": "[encoded data removed]",
      "text/plain": [
       "<Figure size 720x432 with 2 Axes>"
      ]
     },
     "metadata": {
      "needs_background": "light"
     },
     "output_type": "display_data"
    }
   ],
   "source": [
    "from sklearn.metrics import confusion_matrix, classification_report\n",
    "import seaborn as sns\n",
    "original_list=[\"YES\", \"NO\"]\n",
    "\n",
    "\n",
    "y_pred1 = model.predict(X_test)\n",
    "y_pred =[1 if pred >.5 else 0 for pred in y_pred1]       # eftersom vi använder binary\n",
    "y_pred = np.array(y_pred).astype(int)\n",
    "cm = confusion_matrix(y_test, y_pred)\n",
    "plt.figure(figsize = (10,6))\n",
    "sns.heatmap(cm, annot = True)\n",
    "\n",
    "print(classification_report(y_test, y_pred, target_names = original_list))"
   ]
  }
 ],
 "metadata": {
  "interpreter": {
   "hash": "9fcffddc6dfe4d201ddfbdf32d266fb8583032796043089c1288c5a4426388e7"
  },
  "kernelspec": {
   "display_name": "Python 3.8.11 64-bit ('testenv': conda)",
   "language": "python",
   "name": "python3"
  },
  "language_info": {
   "codemirror_mode": {
    "name": "ipython",
    "version": 3
   },
   "file_extension": ".py",
   "mimetype": "text/x-python",
   "name": "python",
   "nbconvert_exporter": "python",
   "pygments_lexer": "ipython3",
   "version": "3.8.11"
  },
  "orig_nbformat": 4
 },
 "nbformat": 4,
 "nbformat_minor": 2
}
